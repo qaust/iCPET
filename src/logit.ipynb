{
 "cells": [
  {
   "cell_type": "code",
   "execution_count": 1,
   "id": "109ecf19-211c-49af-bc63-a9b3799b1177",
   "metadata": {
    "tags": []
   },
   "outputs": [],
   "source": [
    "import numpy as np\n",
    "import pandas as pd\n",
    "import matplotlib.pyplot as plt\n",
    "import seaborn as sns\n",
    "from pathlib import Path\n",
    "import os\n",
    "import pickle\n",
    "from tqdm import tqdm\n",
    "\n",
    "from sklearn.compose import (\n",
    "\tColumnTransformer\n",
    ")\n",
    "from sklearn.decomposition import (\n",
    "\tPCA\n",
    ")\n",
    "from sklearn.ensemble import (\n",
    "\tRandomForestClassifier\n",
    ")\n",
    "from sklearn.feature_selection import(\n",
    "\tRFECV, SequentialFeatureSelector\n",
    ")\n",
    "from sklearn.linear_model import (\n",
    "\tLinearRegression, LogisticRegression,\n",
    ")\n",
    "from sklearn.metrics import (\n",
    "\tconfusion_matrix, classification_report, f1_score,\n",
    ")\n",
    "from sklearn.model_selection import (\n",
    "\ttrain_test_split, RandomizedSearchCV, GridSearchCV, \n",
    "\tcross_val_score,\n",
    ")\n",
    "from sklearn.pipeline import (\n",
    "\tPipeline\n",
    ")\n",
    "from sklearn.preprocessing import (\n",
    "\tLabelEncoder, OneHotEncoder, StandardScaler,\n",
    "\tRobustScaler, QuantileTransformer,\n",
    ")\n",
    "import statsmodels.api as sm"
   ]
  },
  {
   "cell_type": "code",
   "execution_count": 2,
   "id": "3daff169-513a-4f35-b96b-df51c77086c4",
   "metadata": {
    "tags": []
   },
   "outputs": [],
   "source": [
    "SEED = 123\n",
    "TEST_SIZE = 0.25\n",
    "\n",
    "HEATMAP_COLORS = sns.diverging_palette(h_neg=359, h_pos=250, as_cmap=True)\n"
   ]
  },
  {
   "cell_type": "markdown",
   "id": "14b45a15-b81e-45da-b85b-990089906f48",
   "metadata": {
    "tags": []
   },
   "source": [
    "# Import/Preprocess Data"
   ]
  },
  {
   "cell_type": "code",
   "execution_count": 5,
   "id": "ebaffc80-b3e8-408f-bb71-213d786fd27d",
   "metadata": {
    "tags": []
   },
   "outputs": [
    {
     "name": "stdout",
     "output_type": "stream",
     "text": [
      "(99, 104)\n"
     ]
    },
    {
     "data": {
      "text/html": [
       "<div>\n",
       "<style scoped>\n",
       "    .dataframe tbody tr th:only-of-type {\n",
       "        vertical-align: middle;\n",
       "    }\n",
       "\n",
       "    .dataframe tbody tr th {\n",
       "        vertical-align: top;\n",
       "    }\n",
       "\n",
       "    .dataframe thead th {\n",
       "        text-align: right;\n",
       "    }\n",
       "</style>\n",
       "<table border=\"1\" class=\"dataframe\">\n",
       "  <thead>\n",
       "    <tr style=\"text-align: right;\">\n",
       "      <th></th>\n",
       "      <th>a_diameter</th>\n",
       "      <th>age</th>\n",
       "      <th>airway_ratio</th>\n",
       "      <th>airway_volume</th>\n",
       "      <th>anterior_basal_rs8</th>\n",
       "      <th>anterior_ls3</th>\n",
       "      <th>anterior_rs3</th>\n",
       "      <th>anteromedial_basal_ls7_8</th>\n",
       "      <th>apical_ls1</th>\n",
       "      <th>apical_rs1</th>\n",
       "      <th>...</th>\n",
       "      <th>ve_vco2_slope</th>\n",
       "      <th>vo2_hr_peak_percent_</th>\n",
       "      <th>vo2_ml_kg_min_at_at</th>\n",
       "      <th>vo2_work_slope_output</th>\n",
       "      <th>volume_bone</th>\n",
       "      <th>volume_intermuscular_fat</th>\n",
       "      <th>volume_muscle</th>\n",
       "      <th>volume_subcutaneous_fat</th>\n",
       "      <th>volume_visceral_fat</th>\n",
       "      <th>weight_kg</th>\n",
       "    </tr>\n",
       "  </thead>\n",
       "  <tbody>\n",
       "    <tr>\n",
       "      <th>PE1_0</th>\n",
       "      <td>26.7526</td>\n",
       "      <td>49.0</td>\n",
       "      <td>0.011805</td>\n",
       "      <td>0.066788</td>\n",
       "      <td>0.201809</td>\n",
       "      <td>0.206637</td>\n",
       "      <td>0.326371</td>\n",
       "      <td>0.06566</td>\n",
       "      <td>0.0</td>\n",
       "      <td>0.399756</td>\n",
       "      <td>...</td>\n",
       "      <td>NaN</td>\n",
       "      <td>45.0</td>\n",
       "      <td>9.6</td>\n",
       "      <td>NaN</td>\n",
       "      <td>2.03983</td>\n",
       "      <td>0.986196</td>\n",
       "      <td>5.87431</td>\n",
       "      <td>6.59418</td>\n",
       "      <td>0.242408</td>\n",
       "      <td>150.00</td>\n",
       "    </tr>\n",
       "    <tr>\n",
       "      <th>PE12_0</th>\n",
       "      <td>21.0758</td>\n",
       "      <td>45.0</td>\n",
       "      <td>0.014465</td>\n",
       "      <td>0.069840</td>\n",
       "      <td>0.395899</td>\n",
       "      <td>0.000000</td>\n",
       "      <td>0.002098</td>\n",
       "      <td>0.00000</td>\n",
       "      <td>0.0</td>\n",
       "      <td>0.041968</td>\n",
       "      <td>...</td>\n",
       "      <td>29.557</td>\n",
       "      <td>75.0</td>\n",
       "      <td>10.7</td>\n",
       "      <td>8.038</td>\n",
       "      <td>1.85461</td>\n",
       "      <td>0.904912</td>\n",
       "      <td>6.00182</td>\n",
       "      <td>4.86750</td>\n",
       "      <td>1.988060</td>\n",
       "      <td>111.50</td>\n",
       "    </tr>\n",
       "    <tr>\n",
       "      <th>PE12_1</th>\n",
       "      <td>22.9284</td>\n",
       "      <td>45.0</td>\n",
       "      <td>0.018161</td>\n",
       "      <td>0.047697</td>\n",
       "      <td>0.000000</td>\n",
       "      <td>0.000000</td>\n",
       "      <td>0.000000</td>\n",
       "      <td>0.00000</td>\n",
       "      <td>0.0</td>\n",
       "      <td>0.000000</td>\n",
       "      <td>...</td>\n",
       "      <td>29.557</td>\n",
       "      <td>75.0</td>\n",
       "      <td>10.7</td>\n",
       "      <td>8.038</td>\n",
       "      <td>2.02425</td>\n",
       "      <td>0.629943</td>\n",
       "      <td>8.01657</td>\n",
       "      <td>6.28189</td>\n",
       "      <td>2.443480</td>\n",
       "      <td>111.50</td>\n",
       "    </tr>\n",
       "    <tr>\n",
       "      <th>PE14_0</th>\n",
       "      <td>22.3061</td>\n",
       "      <td>31.0</td>\n",
       "      <td>0.010895</td>\n",
       "      <td>0.054162</td>\n",
       "      <td>0.238598</td>\n",
       "      <td>0.000000</td>\n",
       "      <td>0.000000</td>\n",
       "      <td>0.00000</td>\n",
       "      <td>0.0</td>\n",
       "      <td>0.000000</td>\n",
       "      <td>...</td>\n",
       "      <td>32.776</td>\n",
       "      <td>92.0</td>\n",
       "      <td>10.2</td>\n",
       "      <td>7.718</td>\n",
       "      <td>1.68335</td>\n",
       "      <td>0.347496</td>\n",
       "      <td>5.08316</td>\n",
       "      <td>4.88387</td>\n",
       "      <td>0.470233</td>\n",
       "      <td>85.55</td>\n",
       "    </tr>\n",
       "    <tr>\n",
       "      <th>PE15_0</th>\n",
       "      <td>17.0060</td>\n",
       "      <td>18.0</td>\n",
       "      <td>0.013111</td>\n",
       "      <td>0.029738</td>\n",
       "      <td>0.000000</td>\n",
       "      <td>0.000000</td>\n",
       "      <td>0.000000</td>\n",
       "      <td>0.00000</td>\n",
       "      <td>0.0</td>\n",
       "      <td>0.000000</td>\n",
       "      <td>...</td>\n",
       "      <td>28.446</td>\n",
       "      <td>80.0</td>\n",
       "      <td>17.1</td>\n",
       "      <td>NaN</td>\n",
       "      <td>1.16264</td>\n",
       "      <td>0.168386</td>\n",
       "      <td>3.62723</td>\n",
       "      <td>1.53712</td>\n",
       "      <td>0.017716</td>\n",
       "      <td>55.00</td>\n",
       "    </tr>\n",
       "  </tbody>\n",
       "</table>\n",
       "<p>5 rows × 104 columns</p>\n",
       "</div>"
      ],
      "text/plain": [
       "        a_diameter   age  airway_ratio  airway_volume  anterior_basal_rs8  \\\n",
       "PE1_0      26.7526  49.0      0.011805       0.066788            0.201809   \n",
       "PE12_0     21.0758  45.0      0.014465       0.069840            0.395899   \n",
       "PE12_1     22.9284  45.0      0.018161       0.047697            0.000000   \n",
       "PE14_0     22.3061  31.0      0.010895       0.054162            0.238598   \n",
       "PE15_0     17.0060  18.0      0.013111       0.029738            0.000000   \n",
       "\n",
       "        anterior_ls3  anterior_rs3  anteromedial_basal_ls7_8  apical_ls1  \\\n",
       "PE1_0       0.206637      0.326371                   0.06566         0.0   \n",
       "PE12_0      0.000000      0.002098                   0.00000         0.0   \n",
       "PE12_1      0.000000      0.000000                   0.00000         0.0   \n",
       "PE14_0      0.000000      0.000000                   0.00000         0.0   \n",
       "PE15_0      0.000000      0.000000                   0.00000         0.0   \n",
       "\n",
       "        apical_rs1  ... ve_vco2_slope  vo2_hr_peak_percent_  \\\n",
       "PE1_0     0.399756  ...           NaN                  45.0   \n",
       "PE12_0    0.041968  ...        29.557                  75.0   \n",
       "PE12_1    0.000000  ...        29.557                  75.0   \n",
       "PE14_0    0.000000  ...        32.776                  92.0   \n",
       "PE15_0    0.000000  ...        28.446                  80.0   \n",
       "\n",
       "        vo2_ml_kg_min_at_at vo2_work_slope_output  volume_bone  \\\n",
       "PE1_0                   9.6                   NaN      2.03983   \n",
       "PE12_0                 10.7                 8.038      1.85461   \n",
       "PE12_1                 10.7                 8.038      2.02425   \n",
       "PE14_0                 10.2                 7.718      1.68335   \n",
       "PE15_0                 17.1                   NaN      1.16264   \n",
       "\n",
       "        volume_intermuscular_fat  volume_muscle  volume_subcutaneous_fat  \\\n",
       "PE1_0                   0.986196        5.87431                  6.59418   \n",
       "PE12_0                  0.904912        6.00182                  4.86750   \n",
       "PE12_1                  0.629943        8.01657                  6.28189   \n",
       "PE14_0                  0.347496        5.08316                  4.88387   \n",
       "PE15_0                  0.168386        3.62723                  1.53712   \n",
       "\n",
       "       volume_visceral_fat  weight_kg  \n",
       "PE1_0             0.242408     150.00  \n",
       "PE12_0            1.988060     111.50  \n",
       "PE12_1            2.443480     111.50  \n",
       "PE14_0            0.470233      85.55  \n",
       "PE15_0            0.017716      55.00  \n",
       "\n",
       "[5 rows x 104 columns]"
      ]
     },
     "execution_count": 5,
     "metadata": {},
     "output_type": "execute_result"
    }
   ],
   "source": [
    "df = pd.read_pickle(Path('../data/df.pickle'))\n",
    "print(df.shape)\n",
    "df.head()"
   ]
  },
  {
   "cell_type": "markdown",
   "id": "2735c3d6-5d07-450c-bf27-fbaca7d31ff5",
   "metadata": {},
   "source": [
    "## Identify Target and Independent Variables"
   ]
  },
  {
   "cell_type": "code",
   "execution_count": 6,
   "id": "515c1722-72cc-41e5-b3ed-2a6733a0a973",
   "metadata": {
    "tags": []
   },
   "outputs": [
    {
     "data": {
      "text/plain": [
       "(90, 104)"
      ]
     },
     "execution_count": 6,
     "metadata": {},
     "output_type": "execute_result"
    }
   ],
   "source": [
    "# Identify all target columns\n",
    "# In this case, they will be PE resolution and all \n",
    "# clot burden variables.\n",
    "CAT_TARGETS = [\n",
    "\t'resolved_pe'\n",
    "]\n",
    "NUM_TARGETS = [\n",
    "\t'total_clot_burden',\n",
    "\t'centralartery',\n",
    "\t'apical_rs1',\n",
    "\t'posterior_rs2',\n",
    "\t'anterior_rs3',\n",
    "\t'lateral_rs4',\n",
    "\t'medial_rs5',\n",
    "\t'superior_rs6',\n",
    "\t'medial_basal_rs7',\n",
    "\t'anterior_basal_rs8',\n",
    "\t'lateral_basal_rs9',\n",
    "\t'posterior_basal_rs10',\n",
    "\t'apical_ls1',\n",
    "\t'posterior_ls2',\n",
    "\t'anterior_ls3',\n",
    "\t'superior_ls4',\n",
    "\t'inferior_ls5',\n",
    "\t'superior_ls6',\n",
    "\t'anteromedial_basal_ls7_8',\n",
    "\t'lateral_basal_ls9',\n",
    "\t'posterior_basal_ls10',\n",
    "]\n",
    "TARGETS = CAT_TARGETS + NUM_TARGETS\n",
    "# Check columns to drop are named correctly\n",
    "assert set(TARGETS).issubset(set(df.columns))\n",
    "\n",
    "# Identify all body composition variables\n",
    "VFAT_FEAT = ['volume_visceral_fat', 'density_visceral_fat', 'mass_visceral_fat']\n",
    "SFAT_FEAT = ['volume_subcutaneous_fat', 'density_subcutaneous_fat', 'mass_subcutaneous_fat']\n",
    "IFAT_FEAT = ['volume_intermuscular_fat', 'density_intermuscular_fat', 'mass_intermuscular_fat']\n",
    "MUSCLE_FEAT = ['volume_muscle', 'density_muscle', 'mass_muscle']\n",
    "BONE_FEAT = ['volume_bone', 'density_bone', 'mass_bone']\n",
    "COMP_FEAT = ['bmi']\n",
    "BODY_FEAT = VFAT_FEAT + SFAT_FEAT + IFAT_FEAT + MUSCLE_FEAT + BONE_FEAT + COMP_FEAT\n",
    "\n",
    "# All necessary columns for clot burden predictions\n",
    "NECESSARY_COLS = CAT_TARGETS + BODY_FEAT\n",
    "\n",
    "# Drop columns\n",
    "df_nonnull = df.dropna(subset=NECESSARY_COLS)\n",
    "df_nonnull.shape"
   ]
  },
  {
   "cell_type": "code",
   "execution_count": 76,
   "id": "ff4c7df4-706d-46f5-86d2-2dd150316847",
   "metadata": {
    "tags": []
   },
   "outputs": [
    {
     "name": "stdout",
     "output_type": "stream",
     "text": [
      "X_all.shape: (90, 65)\n",
      "Y_all.shape: (90, 22)\n"
     ]
    }
   ],
   "source": [
    "# Separate X\n",
    "X = df_nonnull.loc[:, df_nonnull.columns.difference(TARGETS)].select_dtypes(['int', 'float'])\n",
    "# Separate Y\n",
    "Y = df_nonnull.loc[:, TARGETS]\n",
    "\n",
    "print(f\"X_all.shape: {X.shape}\")\n",
    "print(f\"Y_all.shape: {Y.shape}\")"
   ]
  },
  {
   "cell_type": "markdown",
   "id": "fea458f8-0945-4b7c-b53a-74923104757c",
   "metadata": {
    "tags": []
   },
   "source": [
    "# Logit Regression"
   ]
  },
  {
   "cell_type": "markdown",
   "id": "f2e58a70-a246-44ff-84a3-fdfc91d67dc2",
   "metadata": {},
   "source": [
    "## Standardize Data"
   ]
  },
  {
   "cell_type": "code",
   "execution_count": 729,
   "id": "a07eae95-ce56-4795-9a98-1d9505813b6f",
   "metadata": {
    "tags": []
   },
   "outputs": [
    {
     "name": "stdout",
     "output_type": "stream",
     "text": [
      "X_body_first.shape: (47, 65)\n",
      "X_body_all.shape: (99, 65)\n"
     ]
    }
   ],
   "source": [
    "# Standardize data\n",
    "scaler = StandardScaler()\n",
    "X_scale_first = pd.DataFrame(\n",
    "\tscaler.fit_transform(X_first),\n",
    "\tcolumns=X_first.columns,\n",
    "\tindex=X_first.index\n",
    ")\n",
    "X_scale_all = pd.DataFrame(\n",
    "\tscaler.fit_transform(X_all),\n",
    "\tcolumns=X_all.columns,\n",
    "\tindex=X_all.index\n",
    ")\n",
    "\n",
    "print(f\"X_body_first.shape: {X_scale_first.shape}\")\n",
    "print(f\"X_body_all.shape: {X_scale_all.shape}\")"
   ]
  },
  {
   "cell_type": "markdown",
   "id": "d454b141-1991-4ff0-8c9a-a1d48a9f9229",
   "metadata": {},
   "source": [
    "## Dependent Variable: PE Resolution"
   ]
  },
  {
   "cell_type": "markdown",
   "id": "3e1f160f-9123-41cd-9a87-f5616cd72ca1",
   "metadata": {},
   "source": [
    "### All observations"
   ]
  },
  {
   "cell_type": "code",
   "execution_count": 728,
   "id": "36fb8ae9-cbb2-41bb-aa4d-9689fb073e59",
   "metadata": {
    "tags": []
   },
   "outputs": [
    {
     "data": {
      "text/plain": [
       "Unresolved    27\n",
       "Resolved      15\n",
       "NaN            5\n",
       "Name: resolved_pe, dtype: int64"
      ]
     },
     "execution_count": 728,
     "metadata": {},
     "output_type": "execute_result"
    }
   ],
   "source": [
    "Y = Y_first.copy()\n",
    "Y['resolved_pe'].value_counts(dropna=False)\n"
   ]
  },
  {
   "cell_type": "code",
   "execution_count": 733,
   "id": "e2ac6f0d-ec11-4597-af07-625b30d77585",
   "metadata": {
    "tags": []
   },
   "outputs": [
    {
     "name": "stdout",
     "output_type": "stream",
     "text": [
      "42\n",
      "(42, 1)\n",
      "(42, 65)\n"
     ]
    }
   ],
   "source": [
    "# # Non-null indices\n",
    "non_null_resolved = set(Y.loc[pd.notnull(Y['resolved_pe']), :].index)\n",
    "non_null_exog = set(X_scale_first.loc[pd.notnull(X_scale_first['volume_subcutaneous_fat']), :].index)\n",
    "non_null_all = list(non_null_resolved.intersection(non_null_exog))\n",
    "print(len(non_null_all))\n",
    "\n",
    "Y = pd.DataFrame(\n",
    "\tY.loc[non_null_all, :],\n",
    "\tcolumns=['resolved_pe'],\n",
    "\tindex=non_null_all\n",
    ").sort_index()\n",
    "X_scale_first = pd.DataFrame(\n",
    "\tX_scale_first.loc[non_null_all, :],\n",
    "\tcolumns=X_scale_first.columns,\n",
    "\tindex=non_null_all\n",
    ").sort_index()\n",
    "print(Y.shape)\n",
    "print(X_scale_first.shape)"
   ]
  },
  {
   "cell_type": "code",
   "execution_count": 734,
   "id": "5f7fd858-29a0-4316-9691-f2980c98a93d",
   "metadata": {
    "tags": []
   },
   "outputs": [
    {
     "data": {
      "text/html": [
       "<div>\n",
       "<style scoped>\n",
       "    .dataframe tbody tr th:only-of-type {\n",
       "        vertical-align: middle;\n",
       "    }\n",
       "\n",
       "    .dataframe tbody tr th {\n",
       "        vertical-align: top;\n",
       "    }\n",
       "\n",
       "    .dataframe thead th {\n",
       "        text-align: right;\n",
       "    }\n",
       "</style>\n",
       "<table border=\"1\" class=\"dataframe\">\n",
       "  <thead>\n",
       "    <tr style=\"text-align: right;\">\n",
       "      <th></th>\n",
       "      <th>resolved_pe</th>\n",
       "    </tr>\n",
       "  </thead>\n",
       "  <tbody>\n",
       "    <tr>\n",
       "      <th>PE12_0</th>\n",
       "      <td>1</td>\n",
       "    </tr>\n",
       "    <tr>\n",
       "      <th>PE14_0</th>\n",
       "      <td>1</td>\n",
       "    </tr>\n",
       "    <tr>\n",
       "      <th>PE15_0</th>\n",
       "      <td>1</td>\n",
       "    </tr>\n",
       "    <tr>\n",
       "      <th>PE16_0</th>\n",
       "      <td>1</td>\n",
       "    </tr>\n",
       "    <tr>\n",
       "      <th>PE17_0</th>\n",
       "      <td>1</td>\n",
       "    </tr>\n",
       "  </tbody>\n",
       "</table>\n",
       "</div>"
      ],
      "text/plain": [
       "        resolved_pe\n",
       "PE12_0            1\n",
       "PE14_0            1\n",
       "PE15_0            1\n",
       "PE16_0            1\n",
       "PE17_0            1"
      ]
     },
     "execution_count": 734,
     "metadata": {},
     "output_type": "execute_result"
    }
   ],
   "source": [
    "y = pd.DataFrame(\n",
    "\tLabelEncoder().fit_transform(Y['resolved_pe']),\n",
    "\tcolumns=['resolved_pe'],\n",
    "\tindex=Y.index\n",
    ").astype(np.int64)\n",
    "y.head()"
   ]
  },
  {
   "cell_type": "code",
   "execution_count": 735,
   "id": "c880a987-f59f-47b0-bc24-b763b4259fd0",
   "metadata": {
    "tags": []
   },
   "outputs": [
    {
     "data": {
      "text/plain": [
       "resolved_pe\n",
       "1              27\n",
       "0              15\n",
       "dtype: int64"
      ]
     },
     "execution_count": 735,
     "metadata": {},
     "output_type": "execute_result"
    }
   ],
   "source": [
    "y.value_counts(dropna=False)"
   ]
  },
  {
   "cell_type": "code",
   "execution_count": 736,
   "id": "1579faec-a9a3-4e19-ad1e-1b4a769f419d",
   "metadata": {
    "tags": []
   },
   "outputs": [
    {
     "name": "stdout",
     "output_type": "stream",
     "text": [
      "<class 'pandas.core.series.Series'>\n",
      "Index: 42 entries, PE12_0 to PE9_0\n",
      "Series name: volume_subcutaneous_fat\n",
      "Non-Null Count  Dtype  \n",
      "--------------  -----  \n",
      "42 non-null     float64\n",
      "dtypes: float64(1)\n",
      "memory usage: 672.0+ bytes\n"
     ]
    }
   ],
   "source": [
    "X_scale_first.loc[:, 'volume_subcutaneous_fat'].info()"
   ]
  },
  {
   "cell_type": "code",
   "execution_count": 737,
   "id": "1d85769c-b64a-4649-8c80-6982a68c08b7",
   "metadata": {
    "tags": []
   },
   "outputs": [
    {
     "name": "stdout",
     "output_type": "stream",
     "text": [
      "Optimization terminated successfully.\n",
      "         Current function value: 0.682888\n",
      "         Iterations 4\n"
     ]
    },
    {
     "data": {
      "text/plain": [
       "volume_subcutaneous_fat    0.318115\n",
       "dtype: float64"
      ]
     },
     "execution_count": 737,
     "metadata": {},
     "output_type": "execute_result"
    }
   ],
   "source": [
    "X_temp = X_scale_first.loc[:, ['volume_subcutaneous_fat']]\n",
    "logit_temp = sm.Logit(y, X_temp).fit()\n",
    "logit_temp.params"
   ]
  },
  {
   "cell_type": "code",
   "execution_count": 720,
   "id": "2491f085-ae1f-419d-a2ca-1035efc1716e",
   "metadata": {
    "tags": []
   },
   "outputs": [
    {
     "data": {
      "text/plain": [
       "(42, 1)"
      ]
     },
     "execution_count": 720,
     "metadata": {},
     "output_type": "execute_result"
    }
   ],
   "source": [
    "X_temp.shape"
   ]
  },
  {
   "cell_type": "code",
   "execution_count": 721,
   "id": "7b3e85c2-dee1-4049-babd-7e223f84bc7e",
   "metadata": {
    "tags": []
   },
   "outputs": [
    {
     "data": {
      "text/plain": [
       "(47, 1)"
      ]
     },
     "execution_count": 721,
     "metadata": {},
     "output_type": "execute_result"
    }
   ],
   "source": [
    "y.shape"
   ]
  }
 ],
 "metadata": {
  "kernelspec": {
   "display_name": "Python [conda env:stats] *",
   "language": "python",
   "name": "conda-env-stats-py"
  },
  "language_info": {
   "codemirror_mode": {
    "name": "ipython",
    "version": 3
   },
   "file_extension": ".py",
   "mimetype": "text/x-python",
   "name": "python",
   "nbconvert_exporter": "python",
   "pygments_lexer": "ipython3",
   "version": "3.10.11"
  }
 },
 "nbformat": 4,
 "nbformat_minor": 5
}
