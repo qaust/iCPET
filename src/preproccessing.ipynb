{
 "cells": [
  {
   "cell_type": "code",
   "execution_count": 1,
   "id": "174f1f7b-e5d9-4c7f-97e3-6d78fe9c49a0",
   "metadata": {
    "tags": []
   },
   "outputs": [],
   "source": [
    "from pathlib import Path\n",
    "import os\n",
    "import pickle\n",
    "from config import model_config\n",
    "\n",
    "import numpy as np\n",
    "import pandas as pd\n",
    "import seaborn as sns\n",
    "import matplotlib.pyplot as plt\n",
    "\n",
    "from sklearn.base import (\n",
    "\tBaseEstimator, TransformerMixin\n",
    ")\n",
    "from sklearn.compose import (\n",
    "\tColumnTransformer\n",
    ")\n",
    "from sklearn.pipeline import (\n",
    "\tPipeline\n",
    ")\n",
    "from sklearn.preprocessing import (\n",
    "\tLabelEncoder, OneHotEncoder, StandardScaler,\n",
    "\tRobustScaler, QuantileTransformer, FunctionTransformer\n",
    ")\n",
    "from statsmodels.stats.outliers_influence import variance_inflation_factor\n",
    "\n",
    "\n",
    "\n",
    "SEED = 123"
   ]
  },
  {
   "cell_type": "markdown",
   "id": "34482c94-b5e1-4da7-b074-b25906f2c8be",
   "metadata": {
    "tags": []
   },
   "source": [
    "# Preprocessing "
   ]
  },
  {
   "cell_type": "code",
   "execution_count": 2,
   "id": "10a44597-7a4d-4ee1-b116-20417ac64e80",
   "metadata": {
    "tags": []
   },
   "outputs": [
    {
     "name": "stdout",
     "output_type": "stream",
     "text": [
      "(104, 113)\n"
     ]
    },
    {
     "data": {
      "text/html": [
       "<div>\n",
       "<style scoped>\n",
       "    .dataframe tbody tr th:only-of-type {\n",
       "        vertical-align: middle;\n",
       "    }\n",
       "\n",
       "    .dataframe tbody tr th {\n",
       "        vertical-align: top;\n",
       "    }\n",
       "\n",
       "    .dataframe thead th {\n",
       "        text-align: right;\n",
       "    }\n",
       "</style>\n",
       "<table border=\"1\" class=\"dataframe\">\n",
       "  <thead>\n",
       "    <tr style=\"text-align: right;\">\n",
       "      <th></th>\n",
       "      <th>pe_study_number</th>\n",
       "      <th>patient_id</th>\n",
       "      <th>gender_pe</th>\n",
       "      <th>series_id</th>\n",
       "      <th>slice_number</th>\n",
       "      <th>centralartery</th>\n",
       "      <th>apical_rs1</th>\n",
       "      <th>posterior_rs2</th>\n",
       "      <th>anterior_rs3</th>\n",
       "      <th>lateral_rs4</th>\n",
       "      <th>...</th>\n",
       "      <th>peak_cao2</th>\n",
       "      <th>peak_cvo2</th>\n",
       "      <th>peak_cavo2</th>\n",
       "      <th>peak_paao2</th>\n",
       "      <th>peak_fick_co</th>\n",
       "      <th>peak_vd_vt</th>\n",
       "      <th>peak_cavo2_a_art_hb</th>\n",
       "      <th>normal</th>\n",
       "      <th>dob_mask_cl</th>\n",
       "      <th>study_age_cl</th>\n",
       "    </tr>\n",
       "  </thead>\n",
       "  <tbody>\n",
       "    <tr>\n",
       "      <th>PE1_0</th>\n",
       "      <td>PE1</td>\n",
       "      <td>HB046619</td>\n",
       "      <td>M</td>\n",
       "      <td>3.0</td>\n",
       "      <td>174.0</td>\n",
       "      <td>11.931900</td>\n",
       "      <td>0.399756</td>\n",
       "      <td>0.412309</td>\n",
       "      <td>0.326371</td>\n",
       "      <td>0.653708</td>\n",
       "      <td>...</td>\n",
       "      <td>20.46894</td>\n",
       "      <td>6.82500</td>\n",
       "      <td>13.64394</td>\n",
       "      <td>2.905439</td>\n",
       "      <td>15.604727</td>\n",
       "      <td>0.130000</td>\n",
       "      <td>0.885970</td>\n",
       "      <td>0</td>\n",
       "      <td>1977-12-13</td>\n",
       "      <td>49.886379</td>\n",
       "    </tr>\n",
       "    <tr>\n",
       "      <th>PE12_0</th>\n",
       "      <td>PE12</td>\n",
       "      <td>HB046622</td>\n",
       "      <td>M</td>\n",
       "      <td>4.0</td>\n",
       "      <td>264.0</td>\n",
       "      <td>0.102822</td>\n",
       "      <td>0.041968</td>\n",
       "      <td>0.000000</td>\n",
       "      <td>0.002098</td>\n",
       "      <td>0.405691</td>\n",
       "      <td>...</td>\n",
       "      <td>20.68356</td>\n",
       "      <td>8.21862</td>\n",
       "      <td>12.46494</td>\n",
       "      <td>19.274715</td>\n",
       "      <td>16.523663</td>\n",
       "      <td>0.205714</td>\n",
       "      <td>0.799035</td>\n",
       "      <td>0</td>\n",
       "      <td>1986-05-02</td>\n",
       "      <td>45.412731</td>\n",
       "    </tr>\n",
       "    <tr>\n",
       "      <th>PE12_1</th>\n",
       "      <td>PE12</td>\n",
       "      <td>HB046622</td>\n",
       "      <td>M</td>\n",
       "      <td>2.0</td>\n",
       "      <td>95.0</td>\n",
       "      <td>1.391170</td>\n",
       "      <td>0.000000</td>\n",
       "      <td>0.000000</td>\n",
       "      <td>0.000000</td>\n",
       "      <td>0.114441</td>\n",
       "      <td>...</td>\n",
       "      <td>20.68356</td>\n",
       "      <td>8.21862</td>\n",
       "      <td>12.46494</td>\n",
       "      <td>19.274715</td>\n",
       "      <td>16.523663</td>\n",
       "      <td>0.205714</td>\n",
       "      <td>0.799035</td>\n",
       "      <td>0</td>\n",
       "      <td>1986-05-02</td>\n",
       "      <td>45.412731</td>\n",
       "    </tr>\n",
       "    <tr>\n",
       "      <th>PE14_0</th>\n",
       "      <td>PE14</td>\n",
       "      <td>HB046616</td>\n",
       "      <td>F</td>\n",
       "      <td>4.0</td>\n",
       "      <td>111.0</td>\n",
       "      <td>0.825384</td>\n",
       "      <td>0.000000</td>\n",
       "      <td>0.000000</td>\n",
       "      <td>0.000000</td>\n",
       "      <td>0.097104</td>\n",
       "      <td>...</td>\n",
       "      <td>16.34052</td>\n",
       "      <td>7.41872</td>\n",
       "      <td>8.92180</td>\n",
       "      <td>3.302519</td>\n",
       "      <td>18.254263</td>\n",
       "      <td>0.210000</td>\n",
       "      <td>0.737339</td>\n",
       "      <td>0</td>\n",
       "      <td>1997-04-05</td>\n",
       "      <td>31.616701</td>\n",
       "    </tr>\n",
       "    <tr>\n",
       "      <th>PE15_0</th>\n",
       "      <td>PE15</td>\n",
       "      <td>HB046618</td>\n",
       "      <td>F</td>\n",
       "      <td>3.0</td>\n",
       "      <td>315.0</td>\n",
       "      <td>0.000000</td>\n",
       "      <td>0.000000</td>\n",
       "      <td>0.000000</td>\n",
       "      <td>0.000000</td>\n",
       "      <td>0.000000</td>\n",
       "      <td>...</td>\n",
       "      <td>20.79862</td>\n",
       "      <td>8.58190</td>\n",
       "      <td>12.21672</td>\n",
       "      <td>23.804380</td>\n",
       "      <td>11.849891</td>\n",
       "      <td>0.260000</td>\n",
       "      <td>0.778135</td>\n",
       "      <td>0</td>\n",
       "      <td>2010-08-21</td>\n",
       "      <td>18.699521</td>\n",
       "    </tr>\n",
       "  </tbody>\n",
       "</table>\n",
       "<p>5 rows × 113 columns</p>\n",
       "</div>"
      ],
      "text/plain": [
       "       pe_study_number patient_id gender_pe  series_id  slice_number  \\\n",
       "PE1_0              PE1   HB046619         M        3.0         174.0   \n",
       "PE12_0            PE12   HB046622         M        4.0         264.0   \n",
       "PE12_1            PE12   HB046622         M        2.0          95.0   \n",
       "PE14_0            PE14   HB046616         F        4.0         111.0   \n",
       "PE15_0            PE15   HB046618         F        3.0         315.0   \n",
       "\n",
       "        centralartery  apical_rs1  posterior_rs2  anterior_rs3  lateral_rs4  \\\n",
       "PE1_0       11.931900    0.399756       0.412309      0.326371     0.653708   \n",
       "PE12_0       0.102822    0.041968       0.000000      0.002098     0.405691   \n",
       "PE12_1       1.391170    0.000000       0.000000      0.000000     0.114441   \n",
       "PE14_0       0.825384    0.000000       0.000000      0.000000     0.097104   \n",
       "PE15_0       0.000000    0.000000       0.000000      0.000000     0.000000   \n",
       "\n",
       "        ...  peak_cao2  peak_cvo2  peak_cavo2  peak_paao2  peak_fick_co  \\\n",
       "PE1_0   ...   20.46894    6.82500    13.64394    2.905439     15.604727   \n",
       "PE12_0  ...   20.68356    8.21862    12.46494   19.274715     16.523663   \n",
       "PE12_1  ...   20.68356    8.21862    12.46494   19.274715     16.523663   \n",
       "PE14_0  ...   16.34052    7.41872     8.92180    3.302519     18.254263   \n",
       "PE15_0  ...   20.79862    8.58190    12.21672   23.804380     11.849891   \n",
       "\n",
       "        peak_vd_vt  peak_cavo2_a_art_hb  normal  dob_mask_cl  study_age_cl  \n",
       "PE1_0     0.130000             0.885970       0   1977-12-13     49.886379  \n",
       "PE12_0    0.205714             0.799035       0   1986-05-02     45.412731  \n",
       "PE12_1    0.205714             0.799035       0   1986-05-02     45.412731  \n",
       "PE14_0    0.210000             0.737339       0   1997-04-05     31.616701  \n",
       "PE15_0    0.260000             0.778135       0   2010-08-21     18.699521  \n",
       "\n",
       "[5 rows x 113 columns]"
      ]
     },
     "execution_count": 2,
     "metadata": {},
     "output_type": "execute_result"
    }
   ],
   "source": [
    "df = pd.read_pickle(Path('../data/df_clean_w_outliers.pkl'))\n",
    "df = df.drop(columns=['study_date_mask_cl', 'study_date_mask_pe',])\n",
    "df = df.dropna(subset='total_clot_burden')\n",
    "df['resolved_pe'] = df['resolved_pe'].map({'Unresolved': 0, 'Resolved': 1})\n",
    "print(df.shape)\n",
    "df.head()"
   ]
  },
  {
   "cell_type": "markdown",
   "id": "bc38514a-1adf-452c-b587-97f24c9809e1",
   "metadata": {},
   "source": [
    "## Pipelines\n",
    "\n",
    "The primary pipeline will be to pass all numeric data through a standard scaler and a quantile transformer (to achieve normal distributions). The quantile transformer is especially important for the target variables (clot burdens), because the clot burden variables often do not follow a normal distribution. Categorical features will be passed through a one hot encoder. Labels will be passed through a label encoder.\n"
   ]
  },
  {
   "cell_type": "code",
   "execution_count": 3,
   "id": "56b49005-b6da-40fa-a6d1-ac8257d7ab3b",
   "metadata": {},
   "outputs": [],
   "source": [
    "num_columns = list(df.select_dtypes(['int', 'float']).columns)\n",
    "cat_columns = list(df.select_dtypes(['category']).columns.difference(model_config.cat_targets))\n",
    "all_columns = num_columns + cat_columns"
   ]
  },
  {
   "cell_type": "code",
   "execution_count": 4,
   "id": "e9127a32-de41-4910-a701-783d930a426e",
   "metadata": {
    "tags": []
   },
   "outputs": [
    {
     "data": {
      "text/plain": [
       "(95, 113)"
      ]
     },
     "execution_count": 4,
     "metadata": {},
     "output_type": "execute_result"
    }
   ],
   "source": [
    "cols = model_config.cat_targets + model_config.num_targets + model_config.body_feat + model_config.cardiopulmonary_feat + model_config.controls\n",
    "\n",
    "df_nonnull = df.dropna(subset=cols)\n",
    "df_nonnull.shape"
   ]
  },
  {
   "cell_type": "code",
   "execution_count": 5,
   "id": "e1bdc88c-83f3-4dbd-a816-c6bf58e8ad3c",
   "metadata": {
    "tags": []
   },
   "outputs": [],
   "source": [
    "class LabelEncoderTransformer(BaseEstimator, TransformerMixin):\n",
    "\n",
    "\tdef fit(self, X, y=None):\n",
    "\t\treturn self\n",
    "\n",
    "\tdef transform(self, X, y=None):\n",
    "\t\tX_reshaped = np.squeeze(X)\n",
    "\t\tlabel_encoder = LabelEncoder()\n",
    "\t\tX_transformed = label_encoder.fit_transform(X_reshaped)\n",
    "\t\treturn X_transformed.reshape(-1, 1)\n",
    "\n",
    "\tdef get_feature_names_out(self, X, y=None):\n",
    "\t\treturn X\n",
    "\n",
    "\n",
    "num_pipeline = Pipeline([\n",
    "\t('Scaler', StandardScaler()),\n",
    "\t('QuantileTransformer', QuantileTransformer(n_quantiles=20, output_distribution='normal', random_state=SEED)),\n",
    "])\n",
    "\n",
    "cat_pipeline = Pipeline([\n",
    "\t('Encoder', OneHotEncoder(handle_unknown='ignore', drop='first'))\n",
    "])\n",
    "\n",
    "preprocessor = ColumnTransformer(\n",
    "    transformers=[\n",
    "\t\t('label_encoder', LabelEncoderTransformer(), model_config.cat_targets),\n",
    "        ('num_pipeline', num_pipeline, num_columns),\n",
    "        ('cat_pipeline', cat_pipeline, cat_columns),\n",
    "\t],\n",
    "\tremainder='drop'\n",
    ")"
   ]
  },
  {
   "cell_type": "code",
   "execution_count": 6,
   "id": "1f303533-18d2-4ea9-b30c-1a1c526349b2",
   "metadata": {
    "tags": []
   },
   "outputs": [
    {
     "data": {
      "text/html": [
       "<div>\n",
       "<style scoped>\n",
       "    .dataframe tbody tr th:only-of-type {\n",
       "        vertical-align: middle;\n",
       "    }\n",
       "\n",
       "    .dataframe tbody tr th {\n",
       "        vertical-align: top;\n",
       "    }\n",
       "\n",
       "    .dataframe thead th {\n",
       "        text-align: right;\n",
       "    }\n",
       "</style>\n",
       "<table border=\"1\" class=\"dataframe\">\n",
       "  <thead>\n",
       "    <tr style=\"text-align: right;\">\n",
       "      <th></th>\n",
       "      <th>resolved_pe</th>\n",
       "      <th>series_id</th>\n",
       "      <th>slice_number</th>\n",
       "      <th>centralartery</th>\n",
       "      <th>apical_rs1</th>\n",
       "      <th>posterior_rs2</th>\n",
       "      <th>anterior_rs3</th>\n",
       "      <th>lateral_rs4</th>\n",
       "      <th>medial_rs5</th>\n",
       "      <th>superior_rs6</th>\n",
       "      <th>...</th>\n",
       "      <th>inappropriate_o2_extraction_1.0</th>\n",
       "      <th>normal_1</th>\n",
       "      <th>normal_study_1</th>\n",
       "      <th>preload_insufficiency_1.0</th>\n",
       "      <th>preload_insufficiency_nan</th>\n",
       "      <th>race_White</th>\n",
       "      <th>resting_hfpef_1.0</th>\n",
       "      <th>resting_pah_1</th>\n",
       "      <th>surpassed_ventilatory_ceiling_1.0</th>\n",
       "      <th>systemic_htn_response_1.0</th>\n",
       "    </tr>\n",
       "  </thead>\n",
       "  <tbody>\n",
       "    <tr>\n",
       "      <th>PE1_0</th>\n",
       "      <td>1.0</td>\n",
       "      <td>-0.199201</td>\n",
       "      <td>0.285171</td>\n",
       "      <td>0.935442</td>\n",
       "      <td>1.255586</td>\n",
       "      <td>1.258075</td>\n",
       "      <td>1.285853</td>\n",
       "      <td>1.272841</td>\n",
       "      <td>1.292814</td>\n",
       "      <td>1.515897</td>\n",
       "      <td>...</td>\n",
       "      <td>0.0</td>\n",
       "      <td>0.0</td>\n",
       "      <td>0.0</td>\n",
       "      <td>1.0</td>\n",
       "      <td>0.0</td>\n",
       "      <td>1.0</td>\n",
       "      <td>0.0</td>\n",
       "      <td>0.0</td>\n",
       "      <td>0.0</td>\n",
       "      <td>0.0</td>\n",
       "    </tr>\n",
       "    <tr>\n",
       "      <th>PE12_0</th>\n",
       "      <td>0.0</td>\n",
       "      <td>0.266994</td>\n",
       "      <td>1.311472</td>\n",
       "      <td>-0.230049</td>\n",
       "      <td>0.486956</td>\n",
       "      <td>-5.199338</td>\n",
       "      <td>0.452713</td>\n",
       "      <td>1.196428</td>\n",
       "      <td>1.040493</td>\n",
       "      <td>0.294385</td>\n",
       "      <td>...</td>\n",
       "      <td>0.0</td>\n",
       "      <td>0.0</td>\n",
       "      <td>0.0</td>\n",
       "      <td>0.0</td>\n",
       "      <td>0.0</td>\n",
       "      <td>1.0</td>\n",
       "      <td>0.0</td>\n",
       "      <td>0.0</td>\n",
       "      <td>0.0</td>\n",
       "      <td>0.0</td>\n",
       "    </tr>\n",
       "    <tr>\n",
       "      <th>PE12_1</th>\n",
       "      <td>0.0</td>\n",
       "      <td>-5.199338</td>\n",
       "      <td>-0.825438</td>\n",
       "      <td>0.174075</td>\n",
       "      <td>-5.199338</td>\n",
       "      <td>-5.199338</td>\n",
       "      <td>-5.199338</td>\n",
       "      <td>0.608237</td>\n",
       "      <td>-5.199338</td>\n",
       "      <td>-5.199338</td>\n",
       "      <td>...</td>\n",
       "      <td>0.0</td>\n",
       "      <td>0.0</td>\n",
       "      <td>0.0</td>\n",
       "      <td>0.0</td>\n",
       "      <td>0.0</td>\n",
       "      <td>1.0</td>\n",
       "      <td>0.0</td>\n",
       "      <td>0.0</td>\n",
       "      <td>0.0</td>\n",
       "      <td>0.0</td>\n",
       "    </tr>\n",
       "    <tr>\n",
       "      <th>PE14_0</th>\n",
       "      <td>0.0</td>\n",
       "      <td>0.266994</td>\n",
       "      <td>-0.366106</td>\n",
       "      <td>0.001879</td>\n",
       "      <td>-5.199338</td>\n",
       "      <td>-5.199338</td>\n",
       "      <td>-5.199338</td>\n",
       "      <td>0.571489</td>\n",
       "      <td>-5.199338</td>\n",
       "      <td>-5.199338</td>\n",
       "      <td>...</td>\n",
       "      <td>1.0</td>\n",
       "      <td>0.0</td>\n",
       "      <td>0.0</td>\n",
       "      <td>0.0</td>\n",
       "      <td>0.0</td>\n",
       "      <td>1.0</td>\n",
       "      <td>0.0</td>\n",
       "      <td>0.0</td>\n",
       "      <td>0.0</td>\n",
       "      <td>1.0</td>\n",
       "    </tr>\n",
       "    <tr>\n",
       "      <th>PE15_0</th>\n",
       "      <td>0.0</td>\n",
       "      <td>-0.199201</td>\n",
       "      <td>1.616647</td>\n",
       "      <td>-5.199338</td>\n",
       "      <td>-5.199338</td>\n",
       "      <td>-5.199338</td>\n",
       "      <td>-5.199338</td>\n",
       "      <td>-5.199338</td>\n",
       "      <td>-5.199338</td>\n",
       "      <td>-5.199338</td>\n",
       "      <td>...</td>\n",
       "      <td>1.0</td>\n",
       "      <td>0.0</td>\n",
       "      <td>0.0</td>\n",
       "      <td>1.0</td>\n",
       "      <td>0.0</td>\n",
       "      <td>1.0</td>\n",
       "      <td>0.0</td>\n",
       "      <td>0.0</td>\n",
       "      <td>0.0</td>\n",
       "      <td>0.0</td>\n",
       "    </tr>\n",
       "  </tbody>\n",
       "</table>\n",
       "<p>5 rows × 106 columns</p>\n",
       "</div>"
      ],
      "text/plain": [
       "        resolved_pe  series_id  slice_number  centralartery  apical_rs1  \\\n",
       "PE1_0           1.0  -0.199201      0.285171       0.935442    1.255586   \n",
       "PE12_0          0.0   0.266994      1.311472      -0.230049    0.486956   \n",
       "PE12_1          0.0  -5.199338     -0.825438       0.174075   -5.199338   \n",
       "PE14_0          0.0   0.266994     -0.366106       0.001879   -5.199338   \n",
       "PE15_0          0.0  -0.199201      1.616647      -5.199338   -5.199338   \n",
       "\n",
       "        posterior_rs2  anterior_rs3  lateral_rs4  medial_rs5  superior_rs6  \\\n",
       "PE1_0        1.258075      1.285853     1.272841    1.292814      1.515897   \n",
       "PE12_0      -5.199338      0.452713     1.196428    1.040493      0.294385   \n",
       "PE12_1      -5.199338     -5.199338     0.608237   -5.199338     -5.199338   \n",
       "PE14_0      -5.199338     -5.199338     0.571489   -5.199338     -5.199338   \n",
       "PE15_0      -5.199338     -5.199338    -5.199338   -5.199338     -5.199338   \n",
       "\n",
       "        ...  inappropriate_o2_extraction_1.0  normal_1  normal_study_1  \\\n",
       "PE1_0   ...                              0.0       0.0             0.0   \n",
       "PE12_0  ...                              0.0       0.0             0.0   \n",
       "PE12_1  ...                              0.0       0.0             0.0   \n",
       "PE14_0  ...                              1.0       0.0             0.0   \n",
       "PE15_0  ...                              1.0       0.0             0.0   \n",
       "\n",
       "        preload_insufficiency_1.0  preload_insufficiency_nan  race_White  \\\n",
       "PE1_0                         1.0                        0.0         1.0   \n",
       "PE12_0                        0.0                        0.0         1.0   \n",
       "PE12_1                        0.0                        0.0         1.0   \n",
       "PE14_0                        0.0                        0.0         1.0   \n",
       "PE15_0                        1.0                        0.0         1.0   \n",
       "\n",
       "        resting_hfpef_1.0  resting_pah_1  surpassed_ventilatory_ceiling_1.0  \\\n",
       "PE1_0                 0.0            0.0                                0.0   \n",
       "PE12_0                0.0            0.0                                0.0   \n",
       "PE12_1                0.0            0.0                                0.0   \n",
       "PE14_0                0.0            0.0                                0.0   \n",
       "PE15_0                0.0            0.0                                0.0   \n",
       "\n",
       "        systemic_htn_response_1.0  \n",
       "PE1_0                         0.0  \n",
       "PE12_0                        0.0  \n",
       "PE12_1                        0.0  \n",
       "PE14_0                        1.0  \n",
       "PE15_0                        0.0  \n",
       "\n",
       "[5 rows x 106 columns]"
      ]
     },
     "execution_count": 6,
     "metadata": {},
     "output_type": "execute_result"
    }
   ],
   "source": [
    "df_pp = preprocessor.fit_transform(df_nonnull)\n",
    "\n",
    "# Get the feature names for the entire ColumnTransformer\n",
    "all_feature_names = list()\n",
    "for transformer_name, transformer, columns in preprocessor.transformers_:\n",
    "\tif isinstance(transformer, str):\n",
    "\t\tcontinue\n",
    "\tall_feature_names.extend(transformer.get_feature_names_out(columns))\n",
    "\n",
    "df_pp = pd.DataFrame(\n",
    "\tdf_pp,\n",
    "\tindex=df_nonnull.index,\n",
    "\tcolumns=all_feature_names\n",
    ")\n",
    "\n",
    "df_pp.head()"
   ]
  },
  {
   "cell_type": "code",
   "execution_count": 7,
   "id": "af097844-4f4a-4878-a26a-a97068344740",
   "metadata": {
    "tags": []
   },
   "outputs": [
    {
     "name": "stdout",
     "output_type": "stream",
     "text": [
      "X.shape: (95, 84)\n",
      "Y.shape: (95, 22)\n"
     ]
    }
   ],
   "source": [
    "targets = model_config.num_targets + model_config.cat_targets\n",
    "# Separate X\n",
    "X = df_pp.loc[:, df_pp.columns.difference(targets)]\n",
    "# Separate Y\n",
    "Y = df_pp.loc[:, targets]\n",
    "\n",
    "print(f\"X.shape: {X.shape}\")\n",
    "print(f\"Y.shape: {Y.shape}\")"
   ]
  },
  {
   "cell_type": "markdown",
   "id": "5731aaf9-def6-4016-a865-cedb05a36a33",
   "metadata": {},
   "source": [
    "### Variance Inflation Factor Elimination\n",
    "\n",
    "We will loop through multiple VIF elimination thresholds to see what variables remain at each cutoff. From there, we will select a specific cutoff and eliminate features from both the body composition and cardiopulmonary data "
   ]
  },
  {
   "cell_type": "code",
   "execution_count": 8,
   "id": "ab35948e-55ab-434a-88f9-4f2bdedc4d42",
   "metadata": {
    "tags": []
   },
   "outputs": [],
   "source": [
    "def sequential_VIF(df, threshold):\n",
    "\tvif = pd.DataFrame()\n",
    "\tvif['Variable'] = df.columns\n",
    "\tvif['VIF'] = [variance_inflation_factor(df.values, i) for i in range(df.shape[-1])]\n",
    "\n",
    "\twhile vif[\"VIF\"].max() > threshold: \n",
    "\t\tmax_vif_index = vif[\"VIF\"].idxmax()\n",
    "\t\tvariable_to_remove = vif.loc[max_vif_index, \"Variable\"]\n",
    "\t\tdf = df.drop(variable_to_remove, axis=1)\n",
    "\n",
    "\t\tvif = pd.DataFrame()\n",
    "\t\tvif[\"Variable\"] = df.columns\n",
    "\t\tvif[\"VIF\"] = [variance_inflation_factor(df.values, i) for i in range(df.shape[-1])]\n",
    "\t\t\n",
    "\t\tvif.index = vif['Variable']\n",
    "\tvif = vif.drop(columns='Variable')\n",
    "\tvif.columns=[f'VIF<={threshold}']\n",
    "\n",
    "\treturn vif"
   ]
  },
  {
   "cell_type": "markdown",
   "id": "7b9afcd8-1d27-49fe-b7a2-cc6903214245",
   "metadata": {},
   "source": [
    "#### Body Composition VIF Feature Elimination"
   ]
  },
  {
   "cell_type": "raw",
   "id": "b63fff00-7b90-4d5e-95e2-570a2ee3f38d",
   "metadata": {
    "tags": []
   },
   "source": [
    "# Iterable of thresholds\n",
    "thresholds = np.arange(2, 11)\n",
    "\n",
    "# Create dataframe to store results\n",
    "body_vif_df = pd.DataFrame(\n",
    "\tindex=model_config.body_feat\n",
    ")\n",
    "\n",
    "# Loop through thresholds\n",
    "for thresh in thresholds:\n",
    "\t# Subset to body data only\n",
    "\tbody_df = df_pp.loc[:, model_config.body_feat].dropna(axis=0, how='any')\n",
    "\tvif = sequential_VIF(body_df, thresh)\n",
    "\tbody_vif_df = pd.concat((body_vif_df, vif), axis=1)\n",
    "\n",
    "body_vif_df"
   ]
  },
  {
   "cell_type": "raw",
   "id": "546e84f0-244c-4ad5-960c-6d5dc68968ca",
   "metadata": {
    "tags": []
   },
   "source": [
    "uncorrelated_body_feat = list(body_vif_df.loc[:, f\"VIF<={VIF_CUTOFF}\"].dropna().index)\n",
    "uncorrelated_body_feat"
   ]
  },
  {
   "cell_type": "markdown",
   "id": "3b4d2b5a-7f56-4e80-b222-48ee80ddfea5",
   "metadata": {},
   "source": [
    "#### Cardiopulmonary VIF Feature Elimination "
   ]
  },
  {
   "cell_type": "raw",
   "id": "a17d25e5-89bf-42fd-b71e-f93c96db725d",
   "metadata": {
    "tags": []
   },
   "source": [
    "# Iterable of thresholds\n",
    "thresholds = np.arange(2, 11)\n",
    "\n",
    "# Create dataframe to store results\n",
    "cardio_vif_df = pd.DataFrame(\n",
    "\tindex=model_config.cardiopulmonary_feat\n",
    ")\n",
    "\n",
    "# Loop through thresholds\n",
    "for thresh in thresholds:\n",
    "\t# Subset to cardiopulmonary data\n",
    "\tcardio_df = df_pp.loc[:, model_config.cardiopulmonary_feat].dropna(axis=0, how='any')\n",
    "\tvif = sequential_VIF(cardio_df, thresh)\n",
    "\tcardio_vif_df = pd.concat((cardio_vif_df, vif), axis=1)\n",
    "\n",
    "cardio_vif_df"
   ]
  },
  {
   "cell_type": "raw",
   "id": "9786b6b9-a2d4-4ff2-a012-1a2b7e9cef3c",
   "metadata": {
    "tags": []
   },
   "source": [
    "uncorrelated_cardio_feat = list(cardio_vif_df.loc[:, f\"VIF<={VIF_CUTOFF}\"].dropna().index)\n",
    "uncorrelated_cardio_feat"
   ]
  },
  {
   "cell_type": "markdown",
   "id": "aa0c067b-0f02-4d8f-b655-102ef0e7c293",
   "metadata": {},
   "source": [
    "#### All Numerical VIF Feature Elimination "
   ]
  },
  {
   "cell_type": "code",
   "execution_count": 18,
   "id": "051111a7-d0fd-4cdf-aebc-a59f8be5ad86",
   "metadata": {
    "tags": []
   },
   "outputs": [],
   "source": [
    "# Iterable of thresholds\n",
    "thresholds = np.arange(2, 6.5, 0.5)\n",
    "\n",
    "# Create dataframe to store results\n",
    "feat_index = model_config.body_feat + model_config.cardiopulmonary_feat + model_config.controls_encoded\n",
    "all_num_vif_df = pd.DataFrame(\n",
    "\tindex=feat_index\n",
    ")\n",
    "\n",
    "# Loop through thresholds\n",
    "for thresh in thresholds:\n",
    "\t# Subset to cardiopulmonary data\n",
    "\tfeat_df = df_pp.loc[:, feat_index].dropna(axis=0, how='any')\n",
    "\tvif = sequential_VIF(feat_df, thresh)\n",
    "\tall_num_vif_df = pd.concat((all_num_vif_df, vif), axis=1)\n",
    "\n",
    "all_num_vif_df.to_csv('../output/regressions/vif_feature_elimination.csv')"
   ]
  },
  {
   "cell_type": "code",
   "execution_count": 10,
   "id": "f11f020b-9acb-4ee8-a2f2-34d50119c94b",
   "metadata": {
    "tags": []
   },
   "outputs": [
    {
     "name": "stdout",
     "output_type": "stream",
     "text": [
      "Body feat:\n",
      "['density_visceral_fat', 'mass_visceral_fat', 'mass_subcutaneous_fat', 'volume_intermuscular_fat', 'density_intermuscular_fat', 'volume_bone', 'density_bone']\n",
      "\n",
      "Cardio feat:\n",
      "['emphysema_volume_950hu', 'extrapulmonary_artery_volume', 'extrapulmonary_vein_volume', 'artery_vein_ratio', 'bv5', 'pb_larger_10', 'a_diameter', 'pv_a', 'heart_volume', 'airway_ratio', 'ild_volume']\n",
      "\n",
      "Controls:\n",
      "['age', 'gender_cl_Male']\n"
     ]
    }
   ],
   "source": [
    "VIF_CUTOFF = 3.5\n",
    "\n",
    "uncorrelated_feat = list(all_num_vif_df.loc[:, f\"VIF<={VIF_CUTOFF}\"].dropna().index)\n",
    "\n",
    "uncorrelated_body_feat = [feat for feat in uncorrelated_feat if feat in model_config.body_feat]\n",
    "uncorrelated_cardio_feat = [feat for feat in uncorrelated_feat if feat in model_config.cardiopulmonary_feat]\n",
    "uncorrelated_controls = [feat for feat in uncorrelated_feat if feat in model_config.controls_encoded]\n",
    "\n",
    "print(f\"Body feat:\\n{uncorrelated_body_feat}\")\n",
    "print(f\"\\nCardio feat:\\n{uncorrelated_cardio_feat}\")\n",
    "print(f\"\\nControls:\\n{uncorrelated_controls}\")"
   ]
  },
  {
   "cell_type": "code",
   "execution_count": 11,
   "id": "67a1ce5a-3a9f-4df0-a704-39e1187421ad",
   "metadata": {
    "tags": []
   },
   "outputs": [
    {
     "data": {
      "text/html": [
       "<div>\n",
       "<style scoped>\n",
       "    .dataframe tbody tr th:only-of-type {\n",
       "        vertical-align: middle;\n",
       "    }\n",
       "\n",
       "    .dataframe tbody tr th {\n",
       "        vertical-align: top;\n",
       "    }\n",
       "\n",
       "    .dataframe thead th {\n",
       "        text-align: right;\n",
       "    }\n",
       "</style>\n",
       "<table border=\"1\" class=\"dataframe\">\n",
       "  <thead>\n",
       "    <tr style=\"text-align: right;\">\n",
       "      <th></th>\n",
       "      <th>density_visceral_fat</th>\n",
       "      <th>mass_visceral_fat</th>\n",
       "      <th>mass_subcutaneous_fat</th>\n",
       "      <th>volume_intermuscular_fat</th>\n",
       "      <th>density_intermuscular_fat</th>\n",
       "      <th>volume_bone</th>\n",
       "      <th>density_bone</th>\n",
       "    </tr>\n",
       "  </thead>\n",
       "  <tbody>\n",
       "    <tr>\n",
       "      <th>density_visceral_fat</th>\n",
       "      <td>1.000000</td>\n",
       "      <td>-0.494764</td>\n",
       "      <td>-0.321168</td>\n",
       "      <td>-0.536278</td>\n",
       "      <td>0.487487</td>\n",
       "      <td>-0.175516</td>\n",
       "      <td>0.205090</td>\n",
       "    </tr>\n",
       "    <tr>\n",
       "      <th>mass_visceral_fat</th>\n",
       "      <td>-0.494764</td>\n",
       "      <td>1.000000</td>\n",
       "      <td>0.557478</td>\n",
       "      <td>0.558337</td>\n",
       "      <td>-0.031025</td>\n",
       "      <td>0.562404</td>\n",
       "      <td>-0.298748</td>\n",
       "    </tr>\n",
       "    <tr>\n",
       "      <th>mass_subcutaneous_fat</th>\n",
       "      <td>-0.321168</td>\n",
       "      <td>0.557478</td>\n",
       "      <td>1.000000</td>\n",
       "      <td>0.735640</td>\n",
       "      <td>-0.054800</td>\n",
       "      <td>0.136581</td>\n",
       "      <td>-0.251577</td>\n",
       "    </tr>\n",
       "    <tr>\n",
       "      <th>volume_intermuscular_fat</th>\n",
       "      <td>-0.536278</td>\n",
       "      <td>0.558337</td>\n",
       "      <td>0.735640</td>\n",
       "      <td>1.000000</td>\n",
       "      <td>-0.357389</td>\n",
       "      <td>0.256359</td>\n",
       "      <td>-0.226943</td>\n",
       "    </tr>\n",
       "    <tr>\n",
       "      <th>density_intermuscular_fat</th>\n",
       "      <td>0.487487</td>\n",
       "      <td>-0.031025</td>\n",
       "      <td>-0.054800</td>\n",
       "      <td>-0.357389</td>\n",
       "      <td>1.000000</td>\n",
       "      <td>0.129775</td>\n",
       "      <td>-0.231777</td>\n",
       "    </tr>\n",
       "    <tr>\n",
       "      <th>volume_bone</th>\n",
       "      <td>-0.175516</td>\n",
       "      <td>0.562404</td>\n",
       "      <td>0.136581</td>\n",
       "      <td>0.256359</td>\n",
       "      <td>0.129775</td>\n",
       "      <td>1.000000</td>\n",
       "      <td>-0.090211</td>\n",
       "    </tr>\n",
       "    <tr>\n",
       "      <th>density_bone</th>\n",
       "      <td>0.205090</td>\n",
       "      <td>-0.298748</td>\n",
       "      <td>-0.251577</td>\n",
       "      <td>-0.226943</td>\n",
       "      <td>-0.231777</td>\n",
       "      <td>-0.090211</td>\n",
       "      <td>1.000000</td>\n",
       "    </tr>\n",
       "  </tbody>\n",
       "</table>\n",
       "</div>"
      ],
      "text/plain": [
       "                           density_visceral_fat  mass_visceral_fat  \\\n",
       "density_visceral_fat                   1.000000          -0.494764   \n",
       "mass_visceral_fat                     -0.494764           1.000000   \n",
       "mass_subcutaneous_fat                 -0.321168           0.557478   \n",
       "volume_intermuscular_fat              -0.536278           0.558337   \n",
       "density_intermuscular_fat              0.487487          -0.031025   \n",
       "volume_bone                           -0.175516           0.562404   \n",
       "density_bone                           0.205090          -0.298748   \n",
       "\n",
       "                           mass_subcutaneous_fat  volume_intermuscular_fat  \\\n",
       "density_visceral_fat                   -0.321168                 -0.536278   \n",
       "mass_visceral_fat                       0.557478                  0.558337   \n",
       "mass_subcutaneous_fat                   1.000000                  0.735640   \n",
       "volume_intermuscular_fat                0.735640                  1.000000   \n",
       "density_intermuscular_fat              -0.054800                 -0.357389   \n",
       "volume_bone                             0.136581                  0.256359   \n",
       "density_bone                           -0.251577                 -0.226943   \n",
       "\n",
       "                           density_intermuscular_fat  volume_bone  \\\n",
       "density_visceral_fat                        0.487487    -0.175516   \n",
       "mass_visceral_fat                          -0.031025     0.562404   \n",
       "mass_subcutaneous_fat                      -0.054800     0.136581   \n",
       "volume_intermuscular_fat                   -0.357389     0.256359   \n",
       "density_intermuscular_fat                   1.000000     0.129775   \n",
       "volume_bone                                 0.129775     1.000000   \n",
       "density_bone                               -0.231777    -0.090211   \n",
       "\n",
       "                           density_bone  \n",
       "density_visceral_fat           0.205090  \n",
       "mass_visceral_fat             -0.298748  \n",
       "mass_subcutaneous_fat         -0.251577  \n",
       "volume_intermuscular_fat      -0.226943  \n",
       "density_intermuscular_fat     -0.231777  \n",
       "volume_bone                   -0.090211  \n",
       "density_bone                   1.000000  "
      ]
     },
     "execution_count": 11,
     "metadata": {},
     "output_type": "execute_result"
    }
   ],
   "source": [
    "df[uncorrelated_body_feat].corr()"
   ]
  },
  {
   "cell_type": "markdown",
   "id": "63348d9a-237a-492a-9428-6131bab6e54d",
   "metadata": {},
   "source": [
    "#### Ensure all necessary columns are in data"
   ]
  },
  {
   "cell_type": "code",
   "execution_count": 12,
   "id": "4b57cd61-ebc7-486e-9a32-749045982206",
   "metadata": {
    "tags": []
   },
   "outputs": [],
   "source": [
    "all_needed_columns = (\n",
    "\tmodel_config.cat_targets + \n",
    "\tmodel_config.num_targets + \n",
    "\tuncorrelated_body_feat + \n",
    "\tuncorrelated_cardio_feat + \n",
    "\tuncorrelated_controls\n",
    ")\n",
    "\n",
    "prediction_needed_columns = (\n",
    "\tmodel_config.num_targets + \n",
    "\tuncorrelated_body_feat + \n",
    "\tuncorrelated_cardio_feat + \n",
    "\tuncorrelated_controls\n",
    ")\n",
    "\n",
    "classification_needed_columns = (\n",
    "\tmodel_config.cat_targets + \n",
    "\tuncorrelated_body_feat + \n",
    "\tuncorrelated_cardio_feat + \n",
    "\tuncorrelated_controls\n",
    ")\n",
    "\n",
    "# Check columns to drop are named correctly\n",
    "assert set(all_needed_columns).issubset(set(df_pp.columns))\n",
    "assert set(prediction_needed_columns).issubset(set(df_pp.columns))\n",
    "assert set(classification_needed_columns).issubset(set(df_pp.columns))"
   ]
  },
  {
   "cell_type": "markdown",
   "id": "b74a9b2c-1af8-4b3f-8554-543d235cb234",
   "metadata": {},
   "source": [
    "## Prediction"
   ]
  },
  {
   "cell_type": "markdown",
   "id": "4bbc567c-8833-49da-b78c-34b808f7dd04",
   "metadata": {},
   "source": [
    "### Drop missing values for needed columns"
   ]
  },
  {
   "cell_type": "code",
   "execution_count": 13,
   "id": "c9279f6e-bd2c-4d1e-ba1b-469f1477b6b4",
   "metadata": {
    "tags": []
   },
   "outputs": [
    {
     "name": "stdout",
     "output_type": "stream",
     "text": [
      "X.shape: (95, 20)\n",
      "y.shape: (95, 21)\n"
     ]
    }
   ],
   "source": [
    "# Drop columns for ols\n",
    "df_prediction = df_pp.loc[:, prediction_needed_columns].dropna()\n",
    "prediction_features = uncorrelated_body_feat + uncorrelated_cardio_feat + model_config.controls_encoded\n",
    "X_prediction = df_prediction.loc[:, prediction_features]\n",
    "y_prediction = df_prediction.loc[:, model_config.num_targets]\n",
    "\n",
    "print(f\"X.shape: {X_prediction.shape}\")\n",
    "print(f\"y.shape: {y_prediction.shape}\")\n",
    "\n",
    "prediction_data = dict(\n",
    "\tX = X_prediction,\n",
    "\ty = y_prediction,\n",
    "\tbody_features = uncorrelated_body_feat,\n",
    "\tcardio_features = uncorrelated_cardio_feat\n",
    ")"
   ]
  },
  {
   "cell_type": "markdown",
   "id": "0c02edea-fc4c-47bb-971e-30bec4ae2051",
   "metadata": {},
   "source": [
    "### Export"
   ]
  },
  {
   "cell_type": "code",
   "execution_count": 14,
   "id": "a6c215d1-e482-4a43-9cf3-dc03c6142fca",
   "metadata": {},
   "outputs": [],
   "source": [
    "with open(Path('../data/prediction_data.pkl'), 'wb') as f:\n",
    "    pickle.dump(prediction_data, f)"
   ]
  },
  {
   "cell_type": "markdown",
   "id": "924c0f52-7076-4616-b007-29086fd10aca",
   "metadata": {
    "tags": []
   },
   "source": [
    "## Classification"
   ]
  },
  {
   "cell_type": "markdown",
   "id": "beb94d7c-90df-4cd6-89bd-5a5aa876a419",
   "metadata": {},
   "source": [
    "### Drop missing values for needed columns"
   ]
  },
  {
   "cell_type": "code",
   "execution_count": 15,
   "id": "ba5c50e6-6afb-4ddc-afe1-9e73385bd1d9",
   "metadata": {
    "tags": []
   },
   "outputs": [
    {
     "name": "stdout",
     "output_type": "stream",
     "text": [
      "X.shape: (43, 20)\n",
      "y.shape: (43, 1)\n"
     ]
    }
   ],
   "source": [
    "# Drop columns for ols\n",
    "df_classification = df_pp.loc[df.pe_obs==0, classification_needed_columns].dropna()\n",
    "classification_features = uncorrelated_body_feat + uncorrelated_cardio_feat + model_config.controls_encoded\n",
    "X_classification = df_classification.loc[:, classification_features]\n",
    "y_classification = df_classification.loc[:, model_config.cat_targets]\n",
    "\n",
    "print(f\"X.shape: {X_classification.shape}\")\n",
    "print(f\"y.shape: {y_classification.shape}\")\n",
    "\n",
    "classification_data = dict(\n",
    "\tX = X_classification,\n",
    "\ty = y_classification,\n",
    "\tbody_features = uncorrelated_body_feat,\n",
    "\tcardio_features = uncorrelated_cardio_feat\n",
    ")"
   ]
  },
  {
   "cell_type": "code",
   "execution_count": 16,
   "id": "bb6797ce-e01e-4733-9378-5426540a0492",
   "metadata": {
    "tags": []
   },
   "outputs": [
    {
     "data": {
      "text/plain": [
       "peak_cavo2_a_art_hb       1\n",
       "peak_paao2                1\n",
       "peak_pvr_wu               2\n",
       "ve_vco2_slope            10\n",
       "vo2_work_slope_output    14\n",
       "dtype: int64"
      ]
     },
     "execution_count": 16,
     "metadata": {},
     "output_type": "execute_result"
    }
   ],
   "source": [
    "X.isna().sum()[X.isna().sum()>0]"
   ]
  },
  {
   "cell_type": "markdown",
   "id": "45b2d7da-c412-43df-a8af-2c4c6d5bb757",
   "metadata": {},
   "source": [
    "### Export"
   ]
  },
  {
   "cell_type": "code",
   "execution_count": 17,
   "id": "821a1933-5c46-4e96-9ee8-da0a44aa0921",
   "metadata": {},
   "outputs": [],
   "source": [
    "with open(Path('../data/classification_data.pkl'), 'wb') as f:\n",
    "    pickle.dump(classification_data, f)"
   ]
  }
 ],
 "metadata": {
  "kernelspec": {
   "display_name": "Python [conda env:pe_env] *",
   "language": "python",
   "name": "conda-env-pe_env-py"
  },
  "language_info": {
   "codemirror_mode": {
    "name": "ipython",
    "version": 3
   },
   "file_extension": ".py",
   "mimetype": "text/x-python",
   "name": "python",
   "nbconvert_exporter": "python",
   "pygments_lexer": "ipython3",
   "version": "3.10.11"
  }
 },
 "nbformat": 4,
 "nbformat_minor": 5
}
