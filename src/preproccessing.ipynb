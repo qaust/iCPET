{
 "cells": [
  {
   "cell_type": "code",
   "execution_count": 1,
   "id": "174f1f7b-e5d9-4c7f-97e3-6d78fe9c49a0",
   "metadata": {
    "tags": []
   },
   "outputs": [],
   "source": [
    "from pathlib import Path\n",
    "import os\n",
    "import pickle\n",
    "from config import model_config\n",
    "\n",
    "import numpy as np\n",
    "import pandas as pd\n",
    "import seaborn as sns\n",
    "import matplotlib.pyplot as plt\n",
    "\n",
    "from sklearn.base import (\n",
    "\tBaseEstimator, TransformerMixin\n",
    ")\n",
    "from sklearn.compose import (\n",
    "\tColumnTransformer\n",
    ")\n",
    "from sklearn.pipeline import (\n",
    "\tPipeline\n",
    ")\n",
    "from sklearn.preprocessing import (\n",
    "\tLabelEncoder, OneHotEncoder, StandardScaler,\n",
    "\tRobustScaler, QuantileTransformer, FunctionTransformer, \n",
    "    PowerTransformer\n",
    ")\n",
    "from statsmodels.stats.outliers_influence import variance_inflation_factor\n",
    "\n",
    "\n",
    "\n",
    "SEED = 123"
   ]
  },
  {
   "cell_type": "code",
   "execution_count": 2,
   "id": "10a44597-7a4d-4ee1-b116-20417ac64e80",
   "metadata": {
    "tags": []
   },
   "outputs": [
    {
     "name": "stdout",
     "output_type": "stream",
     "text": [
      "(110, 117)\n"
     ]
    },
    {
     "data": {
      "text/html": [
       "<div>\n",
       "<style scoped>\n",
       "    .dataframe tbody tr th:only-of-type {\n",
       "        vertical-align: middle;\n",
       "    }\n",
       "\n",
       "    .dataframe tbody tr th {\n",
       "        vertical-align: top;\n",
       "    }\n",
       "\n",
       "    .dataframe thead th {\n",
       "        text-align: right;\n",
       "    }\n",
       "</style>\n",
       "<table border=\"1\" class=\"dataframe\">\n",
       "  <thead>\n",
       "    <tr style=\"text-align: right;\">\n",
       "      <th></th>\n",
       "      <th>pe_study_number</th>\n",
       "      <th>patient_id</th>\n",
       "      <th>gender_pe</th>\n",
       "      <th>series_id</th>\n",
       "      <th>slice_number</th>\n",
       "      <th>centralartery</th>\n",
       "      <th>apical_rs1</th>\n",
       "      <th>posterior_rs2</th>\n",
       "      <th>anterior_rs3</th>\n",
       "      <th>lateral_rs4</th>\n",
       "      <th>...</th>\n",
       "      <th>peak_fick_co</th>\n",
       "      <th>peak_vd_vt</th>\n",
       "      <th>peak_cavo2_a_art_hb</th>\n",
       "      <th>peak_pa_elastance_ea_mmhg_ml_m2</th>\n",
       "      <th>hyperventilation</th>\n",
       "      <th>hyperventilation_num</th>\n",
       "      <th>mpap_co_ratio</th>\n",
       "      <th>normal</th>\n",
       "      <th>dob_mask_cl</th>\n",
       "      <th>study_age_cl</th>\n",
       "    </tr>\n",
       "  </thead>\n",
       "  <tbody>\n",
       "    <tr>\n",
       "      <th>PE1_0</th>\n",
       "      <td>PE1</td>\n",
       "      <td>HB046619</td>\n",
       "      <td>M</td>\n",
       "      <td>3.0</td>\n",
       "      <td>174.0</td>\n",
       "      <td>11.931900</td>\n",
       "      <td>0.399756</td>\n",
       "      <td>0.412309</td>\n",
       "      <td>0.326371</td>\n",
       "      <td>0.653708</td>\n",
       "      <td>...</td>\n",
       "      <td>15.604727</td>\n",
       "      <td>0.130000</td>\n",
       "      <td>0.885970</td>\n",
       "      <td>1.170445</td>\n",
       "      <td>1</td>\n",
       "      <td>1.0</td>\n",
       "      <td>1.537996</td>\n",
       "      <td>0</td>\n",
       "      <td>1977-12-13</td>\n",
       "      <td>49.886379</td>\n",
       "    </tr>\n",
       "    <tr>\n",
       "      <th>PE12_0</th>\n",
       "      <td>PE12</td>\n",
       "      <td>HB046622</td>\n",
       "      <td>M</td>\n",
       "      <td>4.0</td>\n",
       "      <td>264.0</td>\n",
       "      <td>0.102822</td>\n",
       "      <td>0.041968</td>\n",
       "      <td>0.000000</td>\n",
       "      <td>0.002098</td>\n",
       "      <td>0.405691</td>\n",
       "      <td>...</td>\n",
       "      <td>16.523663</td>\n",
       "      <td>0.205714</td>\n",
       "      <td>0.799035</td>\n",
       "      <td>0.540537</td>\n",
       "      <td>1</td>\n",
       "      <td>1.0</td>\n",
       "      <td>1.391943</td>\n",
       "      <td>0</td>\n",
       "      <td>1986-05-02</td>\n",
       "      <td>45.412731</td>\n",
       "    </tr>\n",
       "    <tr>\n",
       "      <th>PE12_1</th>\n",
       "      <td>PE12</td>\n",
       "      <td>HB046622</td>\n",
       "      <td>M</td>\n",
       "      <td>2.0</td>\n",
       "      <td>95.0</td>\n",
       "      <td>1.391170</td>\n",
       "      <td>0.000000</td>\n",
       "      <td>0.000000</td>\n",
       "      <td>0.000000</td>\n",
       "      <td>0.114441</td>\n",
       "      <td>...</td>\n",
       "      <td>16.523663</td>\n",
       "      <td>0.205714</td>\n",
       "      <td>0.799035</td>\n",
       "      <td>0.540537</td>\n",
       "      <td>1</td>\n",
       "      <td>1.0</td>\n",
       "      <td>1.391943</td>\n",
       "      <td>0</td>\n",
       "      <td>1986-05-02</td>\n",
       "      <td>45.412731</td>\n",
       "    </tr>\n",
       "    <tr>\n",
       "      <th>PE14_0</th>\n",
       "      <td>PE14</td>\n",
       "      <td>HB046616</td>\n",
       "      <td>F</td>\n",
       "      <td>4.0</td>\n",
       "      <td>111.0</td>\n",
       "      <td>0.825384</td>\n",
       "      <td>0.000000</td>\n",
       "      <td>0.000000</td>\n",
       "      <td>0.000000</td>\n",
       "      <td>0.097104</td>\n",
       "      <td>...</td>\n",
       "      <td>18.254263</td>\n",
       "      <td>0.210000</td>\n",
       "      <td>0.737339</td>\n",
       "      <td>0.650262</td>\n",
       "      <td>1</td>\n",
       "      <td>1.0</td>\n",
       "      <td>1.588670</td>\n",
       "      <td>0</td>\n",
       "      <td>1997-04-05</td>\n",
       "      <td>31.616701</td>\n",
       "    </tr>\n",
       "    <tr>\n",
       "      <th>PE15_0</th>\n",
       "      <td>PE15</td>\n",
       "      <td>HB046618</td>\n",
       "      <td>F</td>\n",
       "      <td>3.0</td>\n",
       "      <td>315.0</td>\n",
       "      <td>0.000000</td>\n",
       "      <td>0.000000</td>\n",
       "      <td>0.000000</td>\n",
       "      <td>0.000000</td>\n",
       "      <td>0.000000</td>\n",
       "      <td>...</td>\n",
       "      <td>11.849891</td>\n",
       "      <td>0.260000</td>\n",
       "      <td>0.778135</td>\n",
       "      <td>0.559831</td>\n",
       "      <td>0</td>\n",
       "      <td>0.0</td>\n",
       "      <td>1.940946</td>\n",
       "      <td>0</td>\n",
       "      <td>2010-08-21</td>\n",
       "      <td>18.699521</td>\n",
       "    </tr>\n",
       "  </tbody>\n",
       "</table>\n",
       "<p>5 rows × 117 columns</p>\n",
       "</div>"
      ],
      "text/plain": [
       "       pe_study_number patient_id gender_pe  series_id  slice_number  \\\n",
       "PE1_0              PE1   HB046619         M        3.0         174.0   \n",
       "PE12_0            PE12   HB046622         M        4.0         264.0   \n",
       "PE12_1            PE12   HB046622         M        2.0          95.0   \n",
       "PE14_0            PE14   HB046616         F        4.0         111.0   \n",
       "PE15_0            PE15   HB046618         F        3.0         315.0   \n",
       "\n",
       "        centralartery  apical_rs1  posterior_rs2  anterior_rs3  lateral_rs4  \\\n",
       "PE1_0       11.931900    0.399756       0.412309      0.326371     0.653708   \n",
       "PE12_0       0.102822    0.041968       0.000000      0.002098     0.405691   \n",
       "PE12_1       1.391170    0.000000       0.000000      0.000000     0.114441   \n",
       "PE14_0       0.825384    0.000000       0.000000      0.000000     0.097104   \n",
       "PE15_0       0.000000    0.000000       0.000000      0.000000     0.000000   \n",
       "\n",
       "        ...  peak_fick_co  peak_vd_vt  peak_cavo2_a_art_hb  \\\n",
       "PE1_0   ...     15.604727    0.130000             0.885970   \n",
       "PE12_0  ...     16.523663    0.205714             0.799035   \n",
       "PE12_1  ...     16.523663    0.205714             0.799035   \n",
       "PE14_0  ...     18.254263    0.210000             0.737339   \n",
       "PE15_0  ...     11.849891    0.260000             0.778135   \n",
       "\n",
       "        peak_pa_elastance_ea_mmhg_ml_m2  hyperventilation  \\\n",
       "PE1_0                          1.170445                 1   \n",
       "PE12_0                         0.540537                 1   \n",
       "PE12_1                         0.540537                 1   \n",
       "PE14_0                         0.650262                 1   \n",
       "PE15_0                         0.559831                 0   \n",
       "\n",
       "        hyperventilation_num  mpap_co_ratio  normal  dob_mask_cl  study_age_cl  \n",
       "PE1_0                    1.0       1.537996       0   1977-12-13     49.886379  \n",
       "PE12_0                   1.0       1.391943       0   1986-05-02     45.412731  \n",
       "PE12_1                   1.0       1.391943       0   1986-05-02     45.412731  \n",
       "PE14_0                   1.0       1.588670       0   1997-04-05     31.616701  \n",
       "PE15_0                   0.0       1.940946       0   2010-08-21     18.699521  \n",
       "\n",
       "[5 rows x 117 columns]"
      ]
     },
     "execution_count": 2,
     "metadata": {},
     "output_type": "execute_result"
    }
   ],
   "source": [
    "df = pd.read_pickle(Path('../data/df_clean_w_outliers.pkl'))\n",
    "df = df.drop(columns=['study_date_mask_cl', 'study_date_mask_pe',])\n",
    "df = df.dropna(subset='total_clot_burden')\n",
    "df['resolved_pe'] = df['resolved_pe'].map({'Unresolved': 0, 'Resolved': 1})\n",
    "print(df.shape)\n",
    "df.head()"
   ]
  },
  {
   "cell_type": "markdown",
   "id": "34482c94-b5e1-4da7-b074-b25906f2c8be",
   "metadata": {
    "tags": []
   },
   "source": [
    "# Preprocessing "
   ]
  },
  {
   "cell_type": "markdown",
   "id": "bc38514a-1adf-452c-b587-97f24c9809e1",
   "metadata": {},
   "source": [
    "## Pipelines\n",
    "\n",
    "The primary pipeline will be to pass all numeric data through a standard scaler and a quantile transformer (to achieve normal distributions). The quantile transformer is especially important for the target variables (clot burdens), because the clot burden variables often do not follow a normal distribution. Categorical features will be passed through a one hot encoder. Labels will be passed through a label encoder.\n"
   ]
  },
  {
   "cell_type": "code",
   "execution_count": 3,
   "id": "56b49005-b6da-40fa-a6d1-ac8257d7ab3b",
   "metadata": {},
   "outputs": [],
   "source": [
    "num_columns = list(df.select_dtypes(['int', 'float']).columns)\n",
    "cat_columns = list(df.select_dtypes(['category']).columns.difference(model_config.cat_targets))\n",
    "all_columns = num_columns + cat_columns"
   ]
  },
  {
   "cell_type": "code",
   "execution_count": 4,
   "id": "e9127a32-de41-4910-a701-783d930a426e",
   "metadata": {
    "tags": []
   },
   "outputs": [
    {
     "data": {
      "text/plain": [
       "(99, 117)"
      ]
     },
     "execution_count": 4,
     "metadata": {},
     "output_type": "execute_result"
    }
   ],
   "source": [
    "cols = model_config.cat_targets + model_config.num_targets + model_config.body_feat + model_config.cardiopulmonary_feat + model_config.controls\n",
    "\n",
    "df_nonnull = df.dropna(subset=cols)\n",
    "df_nonnull.shape"
   ]
  },
  {
   "cell_type": "code",
   "execution_count": 5,
   "id": "14f26842-5ed5-4eb6-a567-96eb32e845a9",
   "metadata": {},
   "outputs": [
    {
     "data": {
      "text/html": [
       "<div>\n",
       "<style scoped>\n",
       "    .dataframe tbody tr th:only-of-type {\n",
       "        vertical-align: middle;\n",
       "    }\n",
       "\n",
       "    .dataframe tbody tr th {\n",
       "        vertical-align: top;\n",
       "    }\n",
       "\n",
       "    .dataframe thead th {\n",
       "        text-align: right;\n",
       "    }\n",
       "</style>\n",
       "<table border=\"1\" class=\"dataframe\">\n",
       "  <thead>\n",
       "    <tr style=\"text-align: right;\">\n",
       "      <th></th>\n",
       "      <th>resolved_pe</th>\n",
       "      <th>series_id</th>\n",
       "      <th>slice_number</th>\n",
       "      <th>centralartery</th>\n",
       "      <th>apical_rs1</th>\n",
       "      <th>posterior_rs2</th>\n",
       "      <th>anterior_rs3</th>\n",
       "      <th>lateral_rs4</th>\n",
       "      <th>medial_rs5</th>\n",
       "      <th>superior_rs6</th>\n",
       "      <th>...</th>\n",
       "      <th>inappropriate_o2_extraction_1.0</th>\n",
       "      <th>normal_1</th>\n",
       "      <th>normal_study_1</th>\n",
       "      <th>preload_insufficiency_1.0</th>\n",
       "      <th>preload_insufficiency_nan</th>\n",
       "      <th>race_White</th>\n",
       "      <th>resting_hfpef_1.0</th>\n",
       "      <th>resting_pah_1</th>\n",
       "      <th>surpassed_ventilatory_ceiling_1.0</th>\n",
       "      <th>systemic_htn_response_1.0</th>\n",
       "    </tr>\n",
       "  </thead>\n",
       "  <tbody>\n",
       "    <tr>\n",
       "      <th>PE1_0</th>\n",
       "      <td>1</td>\n",
       "      <td>-0.213019</td>\n",
       "      <td>0.407237</td>\n",
       "      <td>1.286589</td>\n",
       "      <td>1.873100</td>\n",
       "      <td>2.143067</td>\n",
       "      <td>2.303267</td>\n",
       "      <td>2.017511</td>\n",
       "      <td>2.413267</td>\n",
       "      <td>2.339397</td>\n",
       "      <td>...</td>\n",
       "      <td>-0.707107</td>\n",
       "      <td>-0.789272</td>\n",
       "      <td>-0.755929</td>\n",
       "      <td>1.927248</td>\n",
       "      <td>-0.230633</td>\n",
       "      <td>0.40584</td>\n",
       "      <td>-0.275839</td>\n",
       "      <td>-0.230633</td>\n",
       "      <td>-0.371391</td>\n",
       "      <td>-1.189384</td>\n",
       "    </tr>\n",
       "    <tr>\n",
       "      <th>PE12_0</th>\n",
       "      <td>0</td>\n",
       "      <td>0.307231</td>\n",
       "      <td>1.216025</td>\n",
       "      <td>-0.839523</td>\n",
       "      <td>-0.068045</td>\n",
       "      <td>-0.515860</td>\n",
       "      <td>-0.466738</td>\n",
       "      <td>1.666104</td>\n",
       "      <td>1.267476</td>\n",
       "      <td>-0.479203</td>\n",
       "      <td>...</td>\n",
       "      <td>-0.707107</td>\n",
       "      <td>-0.789272</td>\n",
       "      <td>-0.755929</td>\n",
       "      <td>-0.518875</td>\n",
       "      <td>-0.230633</td>\n",
       "      <td>0.40584</td>\n",
       "      <td>-0.275839</td>\n",
       "      <td>-0.230633</td>\n",
       "      <td>-0.371391</td>\n",
       "      <td>-1.189384</td>\n",
       "    </tr>\n",
       "    <tr>\n",
       "      <th>PE12_1</th>\n",
       "      <td>0</td>\n",
       "      <td>-1.093862</td>\n",
       "      <td>-0.849457</td>\n",
       "      <td>0.162930</td>\n",
       "      <td>-0.585790</td>\n",
       "      <td>-0.515860</td>\n",
       "      <td>-0.509499</td>\n",
       "      <td>0.468959</td>\n",
       "      <td>-0.500176</td>\n",
       "      <td>-0.619258</td>\n",
       "      <td>...</td>\n",
       "      <td>-0.707107</td>\n",
       "      <td>-0.789272</td>\n",
       "      <td>-0.755929</td>\n",
       "      <td>-0.518875</td>\n",
       "      <td>-0.230633</td>\n",
       "      <td>0.40584</td>\n",
       "      <td>-0.275839</td>\n",
       "      <td>-0.230633</td>\n",
       "      <td>-0.371391</td>\n",
       "      <td>-1.189384</td>\n",
       "    </tr>\n",
       "    <tr>\n",
       "      <th>PE14_0</th>\n",
       "      <td>0</td>\n",
       "      <td>0.307231</td>\n",
       "      <td>-0.516685</td>\n",
       "      <td>-0.138290</td>\n",
       "      <td>-0.585790</td>\n",
       "      <td>-0.515860</td>\n",
       "      <td>-0.509499</td>\n",
       "      <td>0.336786</td>\n",
       "      <td>-0.500176</td>\n",
       "      <td>-0.619258</td>\n",
       "      <td>...</td>\n",
       "      <td>1.414214</td>\n",
       "      <td>-0.789272</td>\n",
       "      <td>-0.755929</td>\n",
       "      <td>-0.518875</td>\n",
       "      <td>-0.230633</td>\n",
       "      <td>0.40584</td>\n",
       "      <td>-0.275839</td>\n",
       "      <td>-0.230633</td>\n",
       "      <td>-0.371391</td>\n",
       "      <td>0.840771</td>\n",
       "    </tr>\n",
       "    <tr>\n",
       "      <th>PE15_0</th>\n",
       "      <td>0</td>\n",
       "      <td>-0.213019</td>\n",
       "      <td>1.545168</td>\n",
       "      <td>-1.000427</td>\n",
       "      <td>-0.585790</td>\n",
       "      <td>-0.515860</td>\n",
       "      <td>-0.509499</td>\n",
       "      <td>-0.655578</td>\n",
       "      <td>-0.500176</td>\n",
       "      <td>-0.619258</td>\n",
       "      <td>...</td>\n",
       "      <td>1.414214</td>\n",
       "      <td>-0.789272</td>\n",
       "      <td>-0.755929</td>\n",
       "      <td>1.927248</td>\n",
       "      <td>-0.230633</td>\n",
       "      <td>0.40584</td>\n",
       "      <td>-0.275839</td>\n",
       "      <td>-0.230633</td>\n",
       "      <td>-0.371391</td>\n",
       "      <td>-1.189384</td>\n",
       "    </tr>\n",
       "  </tbody>\n",
       "</table>\n",
       "<p>5 rows × 110 columns</p>\n",
       "</div>"
      ],
      "text/plain": [
       "        resolved_pe  series_id  slice_number  centralartery  apical_rs1  \\\n",
       "PE1_0             1  -0.213019      0.407237       1.286589    1.873100   \n",
       "PE12_0            0   0.307231      1.216025      -0.839523   -0.068045   \n",
       "PE12_1            0  -1.093862     -0.849457       0.162930   -0.585790   \n",
       "PE14_0            0   0.307231     -0.516685      -0.138290   -0.585790   \n",
       "PE15_0            0  -0.213019      1.545168      -1.000427   -0.585790   \n",
       "\n",
       "        posterior_rs2  anterior_rs3  lateral_rs4  medial_rs5  superior_rs6  \\\n",
       "PE1_0        2.143067      2.303267     2.017511    2.413267      2.339397   \n",
       "PE12_0      -0.515860     -0.466738     1.666104    1.267476     -0.479203   \n",
       "PE12_1      -0.515860     -0.509499     0.468959   -0.500176     -0.619258   \n",
       "PE14_0      -0.515860     -0.509499     0.336786   -0.500176     -0.619258   \n",
       "PE15_0      -0.515860     -0.509499    -0.655578   -0.500176     -0.619258   \n",
       "\n",
       "        ...  inappropriate_o2_extraction_1.0  normal_1  normal_study_1  \\\n",
       "PE1_0   ...                        -0.707107 -0.789272       -0.755929   \n",
       "PE12_0  ...                        -0.707107 -0.789272       -0.755929   \n",
       "PE12_1  ...                        -0.707107 -0.789272       -0.755929   \n",
       "PE14_0  ...                         1.414214 -0.789272       -0.755929   \n",
       "PE15_0  ...                         1.414214 -0.789272       -0.755929   \n",
       "\n",
       "        preload_insufficiency_1.0  preload_insufficiency_nan  race_White  \\\n",
       "PE1_0                    1.927248                  -0.230633     0.40584   \n",
       "PE12_0                  -0.518875                  -0.230633     0.40584   \n",
       "PE12_1                  -0.518875                  -0.230633     0.40584   \n",
       "PE14_0                  -0.518875                  -0.230633     0.40584   \n",
       "PE15_0                   1.927248                  -0.230633     0.40584   \n",
       "\n",
       "        resting_hfpef_1.0  resting_pah_1  surpassed_ventilatory_ceiling_1.0  \\\n",
       "PE1_0           -0.275839      -0.230633                          -0.371391   \n",
       "PE12_0          -0.275839      -0.230633                          -0.371391   \n",
       "PE12_1          -0.275839      -0.230633                          -0.371391   \n",
       "PE14_0          -0.275839      -0.230633                          -0.371391   \n",
       "PE15_0          -0.275839      -0.230633                          -0.371391   \n",
       "\n",
       "        systemic_htn_response_1.0  \n",
       "PE1_0                   -1.189384  \n",
       "PE12_0                  -1.189384  \n",
       "PE12_1                  -1.189384  \n",
       "PE14_0                   0.840771  \n",
       "PE15_0                  -1.189384  \n",
       "\n",
       "[5 rows x 110 columns]"
      ]
     },
     "execution_count": 5,
     "metadata": {},
     "output_type": "execute_result"
    }
   ],
   "source": [
    "encoder = OneHotEncoder(handle_unknown='ignore', drop='first', sparse_output=False)\n",
    "transformer = PowerTransformer(method='yeo-johnson', standardize=True)\n",
    "# transformer = StandardScaler()\n",
    "label_encoder = LabelEncoder()\n",
    "\n",
    "y_temp = pd.Series(\n",
    "    label_encoder.fit_transform(df_nonnull[model_config.cat_targets].squeeze()),\n",
    "    index=df_nonnull.index,\n",
    "    name='resolved_pe'\n",
    ")\n",
    "\n",
    "df_temp_cat = pd.DataFrame(\n",
    "    encoder.fit_transform(df_nonnull[cat_columns]),\n",
    "    index = df_nonnull.index,\n",
    "    columns = encoder.get_feature_names_out()\n",
    ")\n",
    "df_temp_num = pd.concat([df_nonnull[num_columns], df_temp_cat], axis=1)\n",
    "df_temp_num = pd.DataFrame(\n",
    "    transformer.fit_transform(df_temp_num),\n",
    "    columns=df_temp_num.columns,\n",
    "    index=df_temp_num.index\n",
    ")\n",
    "\n",
    "df_pp = pd.concat([y_temp, df_temp_num], axis=1)\n",
    "df_pp.head()"
   ]
  },
  {
   "cell_type": "code",
   "execution_count": 6,
   "id": "4dac1fdf-83ba-45b1-b38a-a4da6ca74ded",
   "metadata": {},
   "outputs": [],
   "source": [
    "def plot_distributions(data, features, fname, pre_or_post, rows, cols, figsize=(12, 4)):\n",
    "    fig, axs = plt.subplots(rows, cols, figsize=figsize)\n",
    "    for i, ax in enumerate(axs.reshape(-1)):\n",
    "        if i < len(features):\n",
    "            feat_name = features[i]\n",
    "            ax.hist(data[feat_name], bins=20)\n",
    "            ax.set_title(feat_name, fontsize=10)\n",
    "    plt.suptitle(f'Distributions: {pre_or_post}-processing')\n",
    "    plt.tight_layout()\n",
    "    plt.savefig(f'../figures/{fname}.png')\n",
    "    plt.close()\n",
    "\n",
    "plot_distributions(df, model_config.body_feat, 'distribution_body_pre.png', 'pre', 3, 6)\n",
    "plot_distributions(df_pp, model_config.body_feat, 'distribution_body_post.png', 'post', 3, 6)\n",
    "plot_distributions(df, model_config.cardiopulmonary_feat, 'distribution_cardio_pre.png', 'pre', 3, 6)\n",
    "plot_distributions(df_pp, model_config.cardiopulmonary_feat, 'distribution_cardio_post.png', 'post', 3, 6)\n",
    "plot_distributions(df, model_config.num_targets, 'distribution_targets_pre.png', 'pre', 4, 6, figsize=(12, 5))\n",
    "plot_distributions(df_pp, model_config.num_targets, 'distribution_targets_post.png', 'post', 4, 6, figsize=(12, 5))"
   ]
  },
  {
   "cell_type": "code",
   "execution_count": 7,
   "id": "af097844-4f4a-4878-a26a-a97068344740",
   "metadata": {
    "tags": []
   },
   "outputs": [
    {
     "name": "stdout",
     "output_type": "stream",
     "text": [
      "X.shape: (99, 88)\n",
      "Y.shape: (99, 22)\n"
     ]
    }
   ],
   "source": [
    "targets = model_config.num_targets + model_config.cat_targets\n",
    "# Separate X\n",
    "X = df_pp.loc[:, df_pp.columns.difference(targets)]\n",
    "# Separate Y\n",
    "Y = df_pp.loc[:, targets]\n",
    "\n",
    "print(f\"X.shape: {X.shape}\")\n",
    "print(f\"Y.shape: {Y.shape}\")"
   ]
  },
  {
   "cell_type": "markdown",
   "id": "5731aaf9-def6-4016-a865-cedb05a36a33",
   "metadata": {},
   "source": [
    "### Variance Inflation Factor Elimination\n",
    "\n",
    "We will loop through multiple VIF elimination thresholds to see what variables remain at each cutoff. From there, we will select a specific cutoff and eliminate features from both the body composition and cardiopulmonary data "
   ]
  },
  {
   "cell_type": "code",
   "execution_count": 8,
   "id": "ab35948e-55ab-434a-88f9-4f2bdedc4d42",
   "metadata": {
    "tags": []
   },
   "outputs": [],
   "source": [
    "def sequential_VIF(df, threshold):\n",
    "\tvif = pd.DataFrame()\n",
    "\tvif['Variable'] = df.columns\n",
    "\tvif['VIF'] = [variance_inflation_factor(df.values, i) for i in range(df.shape[-1])]\n",
    "\n",
    "\twhile vif[\"VIF\"].max() > threshold: \n",
    "\t\tmax_vif_index = vif[\"VIF\"].idxmax()\n",
    "\t\tvariable_to_remove = vif.loc[max_vif_index, \"Variable\"]\n",
    "\t\tdf = df.drop(variable_to_remove, axis=1)\n",
    "\n",
    "\t\tvif = pd.DataFrame()\n",
    "\t\tvif[\"Variable\"] = df.columns\n",
    "\t\tvif[\"VIF\"] = [variance_inflation_factor(df.values, i) for i in range(df.shape[-1])]\n",
    "\t\t\n",
    "\t\tvif.index = vif['Variable']\n",
    "\tvif = vif.drop(columns='Variable')\n",
    "\tvif.columns=[f'VIF<={threshold}']\n",
    "\n",
    "\treturn vif"
   ]
  },
  {
   "cell_type": "markdown",
   "id": "aa0c067b-0f02-4d8f-b655-102ef0e7c293",
   "metadata": {},
   "source": [
    "#### All Numerical VIF Feature Elimination "
   ]
  },
  {
   "cell_type": "raw",
   "id": "48a2a2f0-8a4b-48af-a65e-ee58609bcb04",
   "metadata": {
    "tags": []
   },
   "source": [
    "# Iterable of thresholds\n",
    "thresholds = np.arange(2, 6.5, 0.5)\n",
    "\n",
    "# Create dataframe to store results\n",
    "feat_index = model_config.body_feat + model_config.cardiopulmonary_feat + model_config.controls_encoded\n",
    "all_num_vif_df = pd.DataFrame(\n",
    "\tindex=feat_index\n",
    ")\n",
    "\n",
    "# Loop through thresholds\n",
    "for thresh in thresholds:\n",
    "\t# Subset to cardiopulmonary data\n",
    "\tfeat_df = df_pp.loc[:, feat_index].dropna(axis=0, how='any')\n",
    "\tvif = sequential_VIF(feat_df, thresh)\n",
    "\tall_num_vif_df = pd.concat((all_num_vif_df, vif), axis=1)\n",
    "\n",
    "all_num_vif_df.to_csv('../output/regressions/vif_feature_elimination.csv')"
   ]
  },
  {
   "cell_type": "raw",
   "id": "37e5fa2b-157c-42b7-b56c-d6bc2d9aed6c",
   "metadata": {
    "tags": []
   },
   "source": [
    "VIF_CUTOFF = 3.5\n",
    "\n",
    "uncorrelated_feat = list(all_num_vif_df.loc[:, f\"VIF<={VIF_CUTOFF}\"].dropna().index)\n",
    "\n",
    "uncorrelated_body_feat = [feat for feat in uncorrelated_feat if feat in model_config.body_feat]\n",
    "uncorrelated_cardio_feat = [feat for feat in uncorrelated_feat if feat in model_config.cardiopulmonary_feat]\n",
    "uncorrelated_controls = [feat for feat in uncorrelated_feat if feat in model_config.controls_encoded]\n",
    "\n",
    "print(f\"Body feat:\\n{uncorrelated_body_feat}\")\n",
    "print(f\"\\nCardio feat:\\n{uncorrelated_cardio_feat}\")\n",
    "print(f\"\\nControls:\\n{uncorrelated_controls}\")"
   ]
  },
  {
   "cell_type": "raw",
   "id": "038dc2ee-443a-4094-8de4-f30aef2780a1",
   "metadata": {
    "tags": []
   },
   "source": [
    "uncorrelated_features = uncorrelated_body_feat + uncorrelated_cardio_feat + uncorrelated_controls\n",
    "\n",
    "post_vif_corr = feat_df[uncorrelated_features].corr()\n",
    "post_vif_corr.to_csv('../output/regressions/post_vif_corr.csv')\n",
    "post_vif_corr"
   ]
  },
  {
   "cell_type": "markdown",
   "id": "63348d9a-237a-492a-9428-6131bab6e54d",
   "metadata": {},
   "source": [
    "#### Ensure all necessary columns are in data"
   ]
  },
  {
   "cell_type": "code",
   "execution_count": 9,
   "id": "4b57cd61-ebc7-486e-9a32-749045982206",
   "metadata": {
    "tags": []
   },
   "outputs": [],
   "source": [
    "all_needed_columns = (\n",
    "\tmodel_config.cat_targets + \n",
    "\tmodel_config.num_targets + \n",
    "\tmodel_config.body_feat + \n",
    "\tmodel_config.cardiopulmonary_feat + \n",
    "\tmodel_config.controls_encoded\n",
    ")\n",
    "\n",
    "prediction_needed_columns = (\n",
    "\tmodel_config.num_targets + \n",
    "\tmodel_config.body_feat + \n",
    "\tmodel_config.cardiopulmonary_feat + \n",
    "\tmodel_config.controls_encoded\n",
    ")\n",
    "\n",
    "classification_needed_columns = (\n",
    "\tmodel_config.cat_targets + \n",
    "\tmodel_config.body_feat + \n",
    "\tmodel_config.cardiopulmonary_feat + \n",
    "\tmodel_config.controls_encoded\n",
    ")\n",
    "\n",
    "all_features = model_config.body_feat + model_config.cardiopulmonary_feat + model_config.controls_encoded\n",
    "\n",
    "# Check columns to drop are named correctly\n",
    "assert set(all_needed_columns).issubset(set(df_pp.columns))\n",
    "assert set(prediction_needed_columns).issubset(set(df_pp.columns))\n",
    "assert set(classification_needed_columns).issubset(set(df_pp.columns))"
   ]
  },
  {
   "cell_type": "markdown",
   "id": "b74a9b2c-1af8-4b3f-8554-543d235cb234",
   "metadata": {},
   "source": [
    "## Prediction"
   ]
  },
  {
   "cell_type": "markdown",
   "id": "4bbc567c-8833-49da-b78c-34b808f7dd04",
   "metadata": {},
   "source": [
    "### Drop missing values for needed columns"
   ]
  },
  {
   "cell_type": "code",
   "execution_count": 10,
   "id": "c9279f6e-bd2c-4d1e-ba1b-469f1477b6b4",
   "metadata": {
    "tags": []
   },
   "outputs": [
    {
     "name": "stdout",
     "output_type": "stream",
     "text": [
      "X.shape: (99, 37)\n",
      "y.shape: (99, 21)\n"
     ]
    }
   ],
   "source": [
    "# Drop columns for ols\n",
    "df_prediction = df_pp.loc[:, prediction_needed_columns].dropna()\n",
    "\n",
    "X_prediction = df_prediction.loc[:, all_features]\n",
    "y_prediction = df_prediction.loc[:, model_config.num_targets]\n",
    "\n",
    "print(f\"X.shape: {X_prediction.shape}\")\n",
    "print(f\"y.shape: {y_prediction.shape}\")\n",
    "\n",
    "prediction_data = dict(\n",
    "\tX = X_prediction,\n",
    "\ty = y_prediction,\n",
    "\tbody_features = model_config.body_feat,\n",
    "\tcardio_features = model_config.cardiopulmonary_feat,\n",
    "    controls = model_config.controls_encoded\n",
    ")"
   ]
  },
  {
   "cell_type": "markdown",
   "id": "0c02edea-fc4c-47bb-971e-30bec4ae2051",
   "metadata": {},
   "source": [
    "### Export"
   ]
  },
  {
   "cell_type": "code",
   "execution_count": 11,
   "id": "a6c215d1-e482-4a43-9cf3-dc03c6142fca",
   "metadata": {},
   "outputs": [],
   "source": [
    "with open(Path('../data/prediction_data.pkl'), 'wb') as f:\n",
    "    pickle.dump(prediction_data, f)"
   ]
  },
  {
   "cell_type": "markdown",
   "id": "924c0f52-7076-4616-b007-29086fd10aca",
   "metadata": {
    "tags": []
   },
   "source": [
    "## Classification"
   ]
  },
  {
   "cell_type": "markdown",
   "id": "beb94d7c-90df-4cd6-89bd-5a5aa876a419",
   "metadata": {},
   "source": [
    "### Drop missing values for needed columns"
   ]
  },
  {
   "cell_type": "markdown",
   "id": "45b2d7da-c412-43df-a8af-2c4c6d5bb757",
   "metadata": {},
   "source": [
    "### Export all observations"
   ]
  },
  {
   "cell_type": "code",
   "execution_count": 12,
   "id": "ba5c50e6-6afb-4ddc-afe1-9e73385bd1d9",
   "metadata": {
    "tags": []
   },
   "outputs": [
    {
     "name": "stdout",
     "output_type": "stream",
     "text": [
      "X.shape: (99, 37)\n",
      "y.shape: (99, 1)\n"
     ]
    }
   ],
   "source": [
    "# Drop columns for ols\n",
    "df_classification = df_pp.loc[:, classification_needed_columns].dropna()\n",
    "X_classification = df_classification.loc[:, all_features]\n",
    "y_classification = df_classification.loc[:, model_config.cat_targets]\n",
    "\n",
    "print(f\"X.shape: {X_classification.shape}\")\n",
    "print(f\"y.shape: {y_classification.shape}\")\n",
    "\n",
    "classification_data = dict(\n",
    "\tX = X_classification,\n",
    "\ty = y_classification,\n",
    "\tbody_features = model_config.body_feat,\n",
    "\tcardio_features = model_config.cardiopulmonary_feat,\n",
    "    controls = model_config.controls_encoded\n",
    ")\n",
    "\n",
    "with open(Path('../data/classification_data_all.pkl'), 'wb') as f:\n",
    "    pickle.dump(classification_data, f)"
   ]
  },
  {
   "cell_type": "markdown",
   "id": "24f254bd-2917-4c20-8254-699e9c39c49b",
   "metadata": {},
   "source": [
    "### Export initial observations"
   ]
  },
  {
   "cell_type": "code",
   "execution_count": 13,
   "id": "821a1933-5c46-4e96-9ee8-da0a44aa0921",
   "metadata": {},
   "outputs": [
    {
     "name": "stdout",
     "output_type": "stream",
     "text": [
      "X.shape: (45, 37)\n",
      "y.shape: (45, 1)\n"
     ]
    }
   ],
   "source": [
    "# Drop columns for ols\n",
    "# df_classification = df_pp.loc[:, classification_needed_columns].dropna()\n",
    "df_classification = df_pp.loc[df.pe_obs==0, classification_needed_columns].dropna()\n",
    "X_classification = df_classification.loc[:, all_features]\n",
    "y_classification = df_classification.loc[:, model_config.cat_targets]\n",
    "\n",
    "print(f\"X.shape: {X_classification.shape}\")\n",
    "print(f\"y.shape: {y_classification.shape}\")\n",
    "\n",
    "classification_data = dict(\n",
    "\tX = X_classification,\n",
    "\ty = y_classification,\n",
    "\tbody_features = model_config.body_feat,\n",
    "\tcardio_features = model_config.cardiopulmonary_feat,\n",
    "    controls = model_config.controls_encoded\n",
    ")\n",
    "\n",
    "with open(Path('../data/classification_data_initial.pkl'), 'wb') as f:\n",
    "    pickle.dump(classification_data, f)"
   ]
  }
 ],
 "metadata": {
  "kernelspec": {
   "display_name": "Python [conda env:pe_env] *",
   "language": "python",
   "name": "conda-env-pe_env-py"
  },
  "language_info": {
   "codemirror_mode": {
    "name": "ipython",
    "version": 3
   },
   "file_extension": ".py",
   "mimetype": "text/x-python",
   "name": "python",
   "nbconvert_exporter": "python",
   "pygments_lexer": "ipython3",
   "version": "3.10.11"
  }
 },
 "nbformat": 4,
 "nbformat_minor": 5
}
