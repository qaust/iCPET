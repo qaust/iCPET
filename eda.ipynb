{
 "cells": [
  {
   "cell_type": "code",
   "execution_count": 1,
   "id": "07551754-7ccc-4cf5-b4c9-f263e9ac197c",
   "metadata": {},
   "outputs": [],
   "source": [
    "import numpy as np\n",
    "import pandas as pd\n",
    "import matplotlib.pyplot as plt\n",
    "import matplotlib.style as style\n",
    "from matplotlib.colors import ListedColormap\n",
    "import seaborn as sns\n",
    "\n",
    "import statsmodels.api as sm\n",
    "\n",
    "from stargazer.stargazer import Stargazer, LineLocation "
   ]
  },
  {
   "cell_type": "code",
   "execution_count": 2,
   "id": "33f84e3a-e7e5-45b2-8bf5-1372866cc1b6",
   "metadata": {},
   "outputs": [],
   "source": [
    "style.use('ggplot')\n",
    "sns.set_theme()"
   ]
  },
  {
   "cell_type": "code",
   "execution_count": 3,
   "id": "44a1dd01-eb96-4177-8ed6-19f063b2bc4b",
   "metadata": {},
   "outputs": [],
   "source": [
    "# df = pd.read_excel(\"data/PE_merged (12-11-2022).xlsx\", sheet_name=\"PE (merged)\")"
   ]
  },
  {
   "cell_type": "markdown",
   "id": "f5c342c1-c8ee-4e69-b64d-71b354d9625a",
   "metadata": {},
   "source": [
    "# Cleaning / Preprocessing"
   ]
  },
  {
   "cell_type": "markdown",
   "id": "5245be60-0940-4b80-9d71-66ff95f03926",
   "metadata": {},
   "source": [
    "## PE Risbano Data"
   ]
  },
  {
   "cell_type": "code",
   "execution_count": 4,
   "id": "2adfd79c-19d5-4b04-a90b-02aff3246db7",
   "metadata": {},
   "outputs": [],
   "source": [
    "pe = pd.read_excel(\"data/PE_merged (12-11-2022).xlsx\", sheet_name=\"PE\")"
   ]
  },
  {
   "cell_type": "code",
   "execution_count": 5,
   "id": "afbce8f8-4ccf-4a2d-9aff-25753d837ce8",
   "metadata": {},
   "outputs": [],
   "source": [
    "pe['date'] = pd.to_datetime(pe['study_date'], format=\"%Y%m%d\")"
   ]
  },
  {
   "cell_type": "code",
   "execution_count": 6,
   "id": "2df8bfa9-de87-4878-ac02-b5fcba5ed85e",
   "metadata": {},
   "outputs": [],
   "source": [
    "pe.rename(columns={'patient_name': 'pe_number'}, inplace=True)"
   ]
  },
  {
   "cell_type": "code",
   "execution_count": 7,
   "id": "40511445-191e-4b80-89ad-7417a965b39c",
   "metadata": {},
   "outputs": [],
   "source": [
    "tuples = list(zip(pe['pe_number'], pe['date']))\n",
    "new_idx = pd.MultiIndex.from_tuples(tuples, names=['PE Number', 'Study Date'])\n",
    "pe.index = new_idx"
   ]
  },
  {
   "cell_type": "code",
   "execution_count": 8,
   "id": "2942c340-f511-49c1-b829-44004be20787",
   "metadata": {},
   "outputs": [
    {
     "data": {
      "text/plain": [
       "PE Number  Study Date\n",
       "PE1        2014-01-07    205.535670\n",
       "PE12       2021-12-03     75.827757\n",
       "           2020-12-18    190.970071\n",
       "PE14       2018-12-19    126.536620\n",
       "PE15       2020-09-18     81.828530\n",
       "Name: clot_burden_additive, dtype: float64"
      ]
     },
     "execution_count": 8,
     "metadata": {},
     "output_type": "execute_result"
    }
   ],
   "source": [
    "pe['clot_burden_additive'] = pe.iloc[:, list(pe.columns).index(\"Apical_R-S1\"):list(pe.columns).index(\"Posterior_Basal_L-S10\")+1].sum(axis=1)\n",
    "pe['clot_burden_additive'].head()"
   ]
  },
  {
   "cell_type": "markdown",
   "id": "e67b4a58-6cb6-46ee-82b1-04d2b9791ff3",
   "metadata": {},
   "source": [
    "## iCPET Data"
   ]
  },
  {
   "cell_type": "code",
   "execution_count": 9,
   "id": "79203669-f983-48f7-827d-7ce28d86d969",
   "metadata": {},
   "outputs": [],
   "source": [
    "cl = pd.read_excel(\"data/PE_merged (12-11-2022).xlsx\", sheet_name=\"Clinical Data\")"
   ]
  },
  {
   "cell_type": "code",
   "execution_count": 10,
   "id": "9b2b093a-17f6-43f5-9347-4614e9edd78e",
   "metadata": {},
   "outputs": [],
   "source": [
    "cl['date'] = pd.to_datetime(cl['1st iCPET'])\n",
    "cl['Peak  PVR (WU)'] = pd.to_numeric(cl['Peak  PVR (WU)'])"
   ]
  },
  {
   "cell_type": "code",
   "execution_count": 11,
   "id": "7ff6b2d0-5911-4db0-9396-10643443d410",
   "metadata": {},
   "outputs": [],
   "source": [
    "cl.rename(columns={'PE Number clean': 'pe_number'}, \n",
    "          inplace=True)"
   ]
  },
  {
   "cell_type": "code",
   "execution_count": 12,
   "id": "858928b9-338d-4aa6-b641-6662a562d49f",
   "metadata": {},
   "outputs": [
    {
     "data": {
      "text/plain": [
       "Int64Index([0, 1], dtype='int64')"
      ]
     },
     "execution_count": 12,
     "metadata": {},
     "output_type": "execute_result"
    }
   ],
   "source": [
    "cl['Resolved'] = cl['Resolved PE'].astype('category')\n",
    "cl['Resolved'].cat.categories"
   ]
  },
  {
   "cell_type": "code",
   "execution_count": 13,
   "id": "c63626d3-a495-4475-b24f-a70442a0bbb0",
   "metadata": {},
   "outputs": [
    {
     "data": {
      "text/plain": [
       "Index(['Chronic', 'Resolved'], dtype='object')"
      ]
     },
     "execution_count": 13,
     "metadata": {},
     "output_type": "execute_result"
    }
   ],
   "source": [
    "cl['Resolved'] = cl['Resolved'].cat.rename_categories({0: 'Chronic', 1: 'Resolved'})\n",
    "cl['Resolved'].cat.categories"
   ]
  },
  {
   "cell_type": "markdown",
   "id": "822ae359-3e13-433b-b73f-0a1345a3c4ce",
   "metadata": {},
   "source": [
    "## Merge Data"
   ]
  },
  {
   "cell_type": "code",
   "execution_count": 14,
   "id": "9d2bdd1e-8b8a-4f6b-92c7-e8e0e9866e08",
   "metadata": {},
   "outputs": [],
   "source": [
    "pe.sort_values(by=['date'], inplace=True)\n",
    "cl.sort_values(by=['date'], inplace=True)\n",
    "\n",
    "# Need the clinical data to be the left df\n",
    "# Merging on pe number and closest date\n",
    "df = pd.merge_asof(cl, pe, on='date', by='pe_number', direction='nearest')\n",
    "df.sort_values(by=['pe_number'], inplace=True)"
   ]
  },
  {
   "cell_type": "code",
   "execution_count": 15,
   "id": "bba6e102-228f-4035-a4bf-33cfe0b415d5",
   "metadata": {},
   "outputs": [
    {
     "name": "stderr",
     "output_type": "stream",
     "text": [
      "C:\\Users\\qaust\\miniconda3\\envs\\stats\\lib\\site-packages\\pandas\\core\\internals\\blocks.py:2323: RuntimeWarning: invalid value encountered in cast\n",
      "  values = values.astype(str)\n"
     ]
    }
   ],
   "source": [
    "df.to_csv('output/merged.csv')"
   ]
  },
  {
   "cell_type": "markdown",
   "id": "687c11c9-0272-4496-9fb5-5c6dda36196e",
   "metadata": {
    "tags": []
   },
   "source": [
    "# Correlation Plots"
   ]
  },
  {
   "cell_type": "markdown",
   "id": "c31d17be-b414-43f9-8341-21f0b7ccab83",
   "metadata": {},
   "source": [
    "# Research questions"
   ]
  },
  {
   "cell_type": "markdown",
   "id": "2c391ff7-df29-4668-818c-e9da022cb2eb",
   "metadata": {
    "jp-MarkdownHeadingCollapsed": true,
    "tags": []
   },
   "source": [
    "## clot characteristics"
   ]
  },
  {
   "cell_type": "code",
   "execution_count": 21,
   "id": "f0683259-282f-4e22-90d0-d9ed7a52a015",
   "metadata": {},
   "outputs": [
    {
     "data": {
      "text/html": [
       "<div>\n",
       "<style scoped>\n",
       "    .dataframe tbody tr th:only-of-type {\n",
       "        vertical-align: middle;\n",
       "    }\n",
       "\n",
       "    .dataframe tbody tr th {\n",
       "        vertical-align: top;\n",
       "    }\n",
       "\n",
       "    .dataframe thead th {\n",
       "        text-align: right;\n",
       "    }\n",
       "</style>\n",
       "<table border=\"1\" class=\"dataframe\">\n",
       "  <thead>\n",
       "    <tr style=\"text-align: right;\">\n",
       "      <th></th>\n",
       "      <th>pe_number</th>\n",
       "      <th>clot_burden_additive</th>\n",
       "      <th>Resolved</th>\n",
       "      <th>variable</th>\n",
       "      <th>value</th>\n",
       "    </tr>\n",
       "  </thead>\n",
       "  <tbody>\n",
       "    <tr>\n",
       "      <th>0</th>\n",
       "      <td>PE1</td>\n",
       "      <td>205.535670</td>\n",
       "      <td>Resolved</td>\n",
       "      <td>VE/VCO2 at AT</td>\n",
       "      <td>31.0</td>\n",
       "    </tr>\n",
       "    <tr>\n",
       "      <th>1</th>\n",
       "      <td>PE11</td>\n",
       "      <td>NaN</td>\n",
       "      <td>Resolved</td>\n",
       "      <td>VE/VCO2 at AT</td>\n",
       "      <td>41.0</td>\n",
       "    </tr>\n",
       "    <tr>\n",
       "      <th>2</th>\n",
       "      <td>PE12</td>\n",
       "      <td>75.827757</td>\n",
       "      <td>Chronic</td>\n",
       "      <td>VE/VCO2 at AT</td>\n",
       "      <td>31.0</td>\n",
       "    </tr>\n",
       "    <tr>\n",
       "      <th>3</th>\n",
       "      <td>PE14</td>\n",
       "      <td>126.536620</td>\n",
       "      <td>Chronic</td>\n",
       "      <td>VE/VCO2 at AT</td>\n",
       "      <td>30.0</td>\n",
       "    </tr>\n",
       "    <tr>\n",
       "      <th>4</th>\n",
       "      <td>PE15</td>\n",
       "      <td>121.891910</td>\n",
       "      <td>Chronic</td>\n",
       "      <td>VE/VCO2 at AT</td>\n",
       "      <td>31.0</td>\n",
       "    </tr>\n",
       "  </tbody>\n",
       "</table>\n",
       "</div>"
      ],
      "text/plain": [
       "  pe_number  clot_burden_additive  Resolved       variable  value\n",
       "0       PE1            205.535670  Resolved  VE/VCO2 at AT   31.0\n",
       "1      PE11                   NaN  Resolved  VE/VCO2 at AT   41.0\n",
       "2      PE12             75.827757   Chronic  VE/VCO2 at AT   31.0\n",
       "3      PE14            126.536620   Chronic  VE/VCO2 at AT   30.0\n",
       "4      PE15            121.891910   Chronic  VE/VCO2 at AT   31.0"
      ]
     },
     "execution_count": 21,
     "metadata": {},
     "output_type": "execute_result"
    }
   ],
   "source": [
    "fields = [\n",
    "    'pe_number',\n",
    "    'clot_burden_additive',\n",
    "    'Resolved',\n",
    "    'VE/VCO2 at AT',\n",
    "    'Peak  Measured mPAP (mmHg)',\n",
    "    'Peak  PVR (WU)',\n",
    "    'Peak  C(A-V)O2',\n",
    "    'Peak  P(A-a)O2',\n",
    "    'Peak  Fick CO',\n",
    "    'Peak  VD/VT',\n",
    "]\n",
    "\n",
    "df_sub_long = df[fields].melt(id_vars=['pe_number', 'clot_burden_additive', 'Resolved'])\n",
    "df_sub_long.head()"
   ]
  },
  {
   "cell_type": "markdown",
   "id": "521e753c-ea8f-4e19-a9db-a8de8a7a555f",
   "metadata": {},
   "source": [
    "## body composition tissues effect on PE resolving and the PE clot burden?"
   ]
  },
  {
   "cell_type": "code",
   "execution_count": 231,
   "id": "4989c006-2591-42e8-a045-37c140b93671",
   "metadata": {},
   "outputs": [],
   "source": [
    "def regression_one_model(df,Xindvars,Yvar, kind='ols', summary=True):\n",
    "    \"\"\"Performs regression model\n",
    "    Args: \n",
    "        - df (pd.DataFrame): Dataframe\n",
    "        - Xindvars (str or list): X variable names\n",
    "        - Yvar (str): Y variable\n",
    "        - summary (boolean): Whether you want the summary\n",
    "    Returns:\n",
    "        - Fitted regression model\n",
    "    \"\"\"\n",
    "    if(type(Yvar)==str):\n",
    "        Yvar=[Yvar]\n",
    "    if(len(Yvar)!=1):\n",
    "        print(\"Error: please enter a single y variable\")\n",
    "        return np.nan\n",
    "    else:\n",
    "        xf = df.dropna(subset=Yvar+Xindvars)[Xindvars+Yvar]\n",
    "        Xexog = xf[Xindvars]\n",
    "        if kind == 'ols':\n",
    "            model = sm.OLS(xf[Yvar],Xexog)\n",
    "        elif kind == 'logit':\n",
    "            model = sm.Logit(xf[Yvar],Xexog)\n",
    "        reg = model.fit()\n",
    "    if(summary):\n",
    "        return reg.summary2()\n",
    "    else:\n",
    "        return reg\n",
    "    \n",
    "def add_significance(value):\n",
    "    if value <= 0.001:\n",
    "        return '***'\n",
    "    elif value <= 0.01:\n",
    "        return '**'\n",
    "    elif value <= 0.05:\n",
    "        return '*'\n",
    "    else:\n",
    "        return 'ns'\n",
    "    \n",
    "def run_regression_group(df, indVarGroups, Y, kind='ols'):\n",
    "    # Get model names\n",
    "    model_names = list(indVarGroups.keys())\n",
    "    \n",
    "    # Initialize empty dataframe to store results\n",
    "    results = pd.DataFrame()\n",
    "    \n",
    "    # Loop through models and perform regressions\n",
    "    for model in model_names:\n",
    "        temp_model = RegressionOneModel(df=df, \n",
    "                                        Xindvars=indVarGroups[model], \n",
    "                                        Yvar=Y, \n",
    "                                        summary=False,\n",
    "                                        kind=kind)\n",
    "        \n",
    "        # Get results from coefficient table\n",
    "        results_temp = temp_model.summary2().tables[1]\n",
    "        \n",
    "        # Add additional metrics\n",
    "        results_temp['Model Name'] = model\n",
    "        results_temp['Kind'] = temp_model.summary2().tables[0].iloc[0, 1]\n",
    "        results_temp['yVar'] = temp_model.summary2().tables[0].iloc[1, 1]\n",
    "        results_temp['xVar'] = results_temp.index\n",
    "        results_temp['nobs'] = temp_model.summary2().tables[0].iloc[3, 1]\n",
    "        results_temp['r2'] = temp_model.summary2().tables[0].iloc[6, 1]\n",
    "        results_temp['r2_adj'] = temp_model.summary2().tables[0].iloc[0, 3]\n",
    "\n",
    "        # Add to dataframe\n",
    "        results = pd.concat([results, results_temp], axis=0)\n",
    "    \n",
    "    # Add significance    \n",
    "    if 'P>|t|' in results.columns:\n",
    "        results.rename(columns={'P>|t|': 'pval', 't': 'test_statistic'}, inplace=True)\n",
    "    elif 'P>|z|' in results.columns:\n",
    "        results.rename(columns={'P>|z|': 'pval', 'z': 'test_statistic'}, inplace=True)\n",
    "\n",
    "    results['significance'] = results['pval'].apply(add_significance)\n",
    "    \n",
    "    # Add lookup column/index for excel\n",
    "    results.index = [f\"{k}_{m}_{y}_{x}\" for k, m, y, x in zip(results['Kind'], results['Model Name'], results['yVar'], results['xVar'])]\n",
    "        \n",
    "    # Clean up and return\n",
    "    del temp_model\n",
    "    del results_temp\n",
    "    return results"
   ]
  },
  {
   "cell_type": "code",
   "execution_count": 138,
   "id": "cee09cac-df77-4fc9-8016-9c22d2a1df7c",
   "metadata": {},
   "outputs": [
    {
     "name": "stdout",
     "output_type": "stream",
     "text": [
      "['volume_visceral_fat', 'density_visceral_fat', 'mass_visceral_fat', 'volume_subcutaneous_fat', 'density_subcutaneous_fat', 'mass_subcutaneous_fat', 'volume_intermuscular_fat', 'density_intermuscular_fat', 'mass_intermuscular_fat', 'volume_muscle', 'density_muscle', 'mass_muscle', 'volume_bone', 'density_bone', 'mass_bone']\n"
     ]
    }
   ],
   "source": [
    "measures = [\n",
    "    'volume', \n",
    "    'density', \n",
    "    'mass',\n",
    "]\n",
    "\n",
    "body_comps = [\n",
    "    'visceral_fat', \n",
    "    'subcutaneous_fat', \n",
    "    'intermuscular_fat', \n",
    "    'muscle', \n",
    "    'bone',\n",
    "]\n",
    "\n",
    "body_vars = [measure + '_' + body_comp for body_comp in body_comps\n",
    "                                       for measure in measures]\n",
    "print(body_vars)"
   ]
  },
  {
   "cell_type": "code",
   "execution_count": 214,
   "id": "7b969537-0f2c-447e-a891-a2820b7af0a4",
   "metadata": {},
   "outputs": [
    {
     "data": {
      "text/plain": [
       "Index(['Enrollment ID', 'PH ID', 'iCPET ID', '1st iCPET', 'PE Study Number',\n",
       "       'pe_number', 'DOB_x', 'Age', 'Gender', 'Race',\n",
       "       ...\n",
       "       'PB_larger_10', 'PV_diameter', 'A_diameter', 'PV/A', 'heart_volume',\n",
       "       'airway_volume', 'airway_ratio', 'ILD_volume', 'ILD_ratio',\n",
       "       'clot_burden_additive'],\n",
       "      dtype='object', length=118)"
      ]
     },
     "execution_count": 214,
     "metadata": {},
     "output_type": "execute_result"
    }
   ],
   "source": [
    "df.columns"
   ]
  },
  {
   "cell_type": "code",
   "execution_count": 229,
   "id": "07b53eea-5590-414e-86a4-946e26a58642",
   "metadata": {},
   "outputs": [],
   "source": [
    "bodyIndVarGroups = {\n",
    "    'volume_visceral_fat_only': [\n",
    "        'volume_visceral_fat',\n",
    "    ], \n",
    "    'density_visceral_fat_only': [\n",
    "        'density_visceral_fat',\n",
    "    ], \n",
    "    'mass_visceral_fat_only': [\n",
    "        'mass_visceral_fat',\n",
    "    ], \n",
    "    'volume_subcutaneous_fat_only': [\n",
    "        'volume_subcutaneous_fat',\n",
    "    ], \n",
    "    'density_subcutaneous_fat_only': [\n",
    "        'density_subcutaneous_fat',\n",
    "    ], \n",
    "    'mass_subcutaneous_fat_only': [\n",
    "        'mass_subcutaneous_fat',\n",
    "    ], \n",
    "    'volume_intermuscular_fat_only': [\n",
    "        'volume_intermuscular_fat',\n",
    "    ], \n",
    "    'density_intermuscular_fat_only': [\n",
    "        'density_intermuscular_fat',\n",
    "    ], \n",
    "    'mass_intermuscular_fat_only': [\n",
    "        'mass_intermuscular_fat',\n",
    "    ], \n",
    "    'volume_muscle_only': [\n",
    "        'volume_muscle',\n",
    "    ], \n",
    "    'density_muscle_only': [\n",
    "        'density_muscle',\n",
    "    ], \n",
    "    'mass_muscle_only': [\n",
    "        'mass_muscle',\n",
    "    ], \n",
    "    'volume_bone_only': [\n",
    "        'volume_bone',\n",
    "    ], \n",
    "    'density_bone_only': [\n",
    "        'density_bone',\n",
    "    ], \n",
    "    'mass_bone_only': [\n",
    "        'mass_bone',\n",
    "    ],\n",
    "    'VFAT_only': [\n",
    "        measure+\"_visceral_fat\" for measure in measures\n",
    "    ],\n",
    "    'SFAT_only': [\n",
    "        measure+\"_subcutaneous_fat\" for measure in measures\n",
    "    ],\n",
    "    'IFAT_only': [\n",
    "        measure+\"_intermuscular_fat\" for measure in measures\n",
    "    ],\n",
    "    'Muscle_only': [\n",
    "        measure+\"_muscle\" for measure in measures\n",
    "    ],\n",
    "    'Bone_only': [\n",
    "        measure+\"_bone\" for measure in measures\n",
    "    ],\n",
    "    'body_composite_1': [\n",
    "        'density_visceral_fat', \n",
    "        'density_subcutaneous_fat', \n",
    "        'density_intermuscular_fat', \n",
    "        'volume_muscle', \n",
    "        'density_muscle', \n",
    "        'mass_muscle', \n",
    "        'density_bone',\n",
    "    ],\n",
    "}\n",
    "\n",
    "airwayIndVarGroups = {\n",
    "    'emphysema_volume_-950HU_only': [\n",
    "        'emphysema_volume_-950HU',\n",
    "    ],\n",
    "    'lung_volume_only': [\n",
    "        'lung_volume',\n",
    "    ],\n",
    "    'extrapulmonary_artery_volume_only': [\n",
    "        'extrapulmonary_artery_volume',\n",
    "    ],\n",
    "    'extrapulmonary_vein_volume_only': [\n",
    "        'extrapulmonary_vein_volume',\n",
    "    ],\n",
    "    'intrapulmonary_artery_volume_only': [\n",
    "        'intrapulmonary_artery_volume',\n",
    "    ],\n",
    "    'intrapulmonary_vein_volume_only': [\n",
    "        'intrapulmonary_vein_volume',\n",
    "    ],\n",
    "    'artery_vein_ratio_only': [\n",
    "        'artery_vein_ratio',\n",
    "    ],\n",
    "    'BV5_only': [\n",
    "        'BV5',\n",
    "    ],\n",
    "    'BV10_only': [\n",
    "        'BV10',\n",
    "    ],\n",
    "    'PB_larger_10_only': [\n",
    "        'PB_larger_10',\n",
    "    ],\n",
    "    'PV_diameter_only': [\n",
    "        'PV_diameter',\n",
    "    ],\n",
    "    'A_diameter_only': [\n",
    "        'A_diameter',\n",
    "    ],\n",
    "    'PV/A_only': [\n",
    "        'PV/A',\n",
    "    ],\n",
    "    'heart_volume_only': [\n",
    "        'heart_volume',\n",
    "    ],\n",
    "    'airway_volume_only': [\n",
    "        'airway_volume',\n",
    "    ],\n",
    "    'airway_ratio_only': [\n",
    "        'airway_ratio',\n",
    "    ],\n",
    "    'ILD_volume_only': [\n",
    "        'ILD_volume',\n",
    "    ],\n",
    "    'ILD_ratio_only': [\n",
    "        'ILD_ratio',\n",
    "    ],\n",
    "    'airway_composite_1': [\n",
    "        'emphysema_volume_-950HU', \n",
    "        'lung_volume', \n",
    "        'airway_volume', \n",
    "        'airway_ratio',\n",
    "    ],\n",
    "    'airway_composite_2': [\n",
    "        'extrapulmonary_artery_volume', \n",
    "        'extrapulmonary_vein_volume', \n",
    "        'intrapulmonary_artery_volume', \n",
    "        'intrapulmonary_vein_volume',\n",
    "        'artery_vein_ratio', \n",
    "        'heart_volume',\n",
    "    ],\n",
    "    'airway_composite_3': [\n",
    "        'BV5',\n",
    "        'BV10',\n",
    "        'PV_diameter',\n",
    "        'A_diameter',\n",
    "        'PV/A',\n",
    "        'ILD_volume',\n",
    "        'ILD_ratio',\n",
    "    ],\n",
    "}"
   ]
  },
  {
   "cell_type": "code",
   "execution_count": 233,
   "id": "41b26a4e-1cec-4734-93d3-272859c2e89f",
   "metadata": {},
   "outputs": [
    {
     "name": "stdout",
     "output_type": "stream",
     "text": [
      "Optimization terminated successfully.\n",
      "         Current function value: 0.639913\n",
      "         Iterations 5\n",
      "Optimization terminated successfully.\n",
      "         Current function value: 0.590696\n",
      "         Iterations 4\n",
      "Optimization terminated successfully.\n",
      "         Current function value: 0.639813\n",
      "         Iterations 5\n",
      "Optimization terminated successfully.\n",
      "         Current function value: 0.567771\n",
      "         Iterations 5\n",
      "Optimization terminated successfully.\n",
      "         Current function value: 0.581641\n",
      "         Iterations 4\n",
      "Optimization terminated successfully.\n",
      "         Current function value: 0.568059\n",
      "         Iterations 5\n",
      "Optimization terminated successfully.\n",
      "         Current function value: 0.620279\n",
      "         Iterations 5\n",
      "Optimization terminated successfully.\n",
      "         Current function value: 0.583857\n",
      "         Iterations 4\n",
      "Optimization terminated successfully.\n",
      "         Current function value: 0.620359\n",
      "         Iterations 5\n",
      "Optimization terminated successfully.\n",
      "         Current function value: 0.606143\n",
      "         Iterations 5\n",
      "Optimization terminated successfully.\n",
      "         Current function value: 0.601764\n",
      "         Iterations 5\n",
      "Optimization terminated successfully.\n",
      "         Current function value: 0.606524\n",
      "         Iterations 5\n",
      "Optimization terminated successfully.\n",
      "         Current function value: 0.610059\n",
      "         Iterations 5\n",
      "Optimization terminated successfully.\n",
      "         Current function value: 0.566202\n",
      "         Iterations 4\n",
      "Optimization terminated successfully.\n",
      "         Current function value: 0.604942\n",
      "         Iterations 5\n",
      "Optimization terminated successfully.\n",
      "         Current function value: 0.584393\n",
      "         Iterations 5\n",
      "Optimization terminated successfully.\n",
      "         Current function value: 0.561012\n",
      "         Iterations 7\n",
      "Optimization terminated successfully.\n",
      "         Current function value: 0.572829\n",
      "         Iterations 6\n",
      "Optimization terminated successfully.\n",
      "         Current function value: 0.589025\n",
      "         Iterations 5\n",
      "Optimization terminated successfully.\n",
      "         Current function value: 0.530037\n",
      "         Iterations 6\n",
      "Optimization terminated successfully.\n",
      "         Current function value: 0.456155\n",
      "         Iterations 7\n",
      "Optimization terminated successfully.\n",
      "         Current function value: 0.632154\n",
      "         Iterations 8\n",
      "Optimization terminated successfully.\n",
      "         Current function value: 0.618900\n",
      "         Iterations 5\n",
      "Optimization terminated successfully.\n",
      "         Current function value: 0.635502\n",
      "         Iterations 5\n",
      "Optimization terminated successfully.\n",
      "         Current function value: 0.635429\n",
      "         Iterations 5\n",
      "Optimization terminated successfully.\n",
      "         Current function value: 0.621506\n",
      "         Iterations 5\n",
      "Optimization terminated successfully.\n",
      "         Current function value: 0.638855\n",
      "         Iterations 5\n",
      "Optimization terminated successfully.\n",
      "         Current function value: 0.565387\n",
      "         Iterations 5\n",
      "Optimization terminated successfully.\n",
      "         Current function value: 0.606713\n",
      "         Iterations 5\n",
      "Optimization terminated successfully.\n",
      "         Current function value: 0.617280\n",
      "         Iterations 4\n",
      "Optimization terminated successfully.\n",
      "         Current function value: 0.639502\n",
      "         Iterations 4\n",
      "Optimization terminated successfully.\n",
      "         Current function value: 0.602418\n",
      "         Iterations 4\n",
      "Optimization terminated successfully.\n",
      "         Current function value: 0.610484\n",
      "         Iterations 4\n",
      "Optimization terminated successfully.\n",
      "         Current function value: 0.590695\n",
      "         Iterations 5\n",
      "Optimization terminated successfully.\n",
      "         Current function value: 0.624340\n",
      "         Iterations 5\n",
      "Optimization terminated successfully.\n",
      "         Current function value: 0.625380\n",
      "         Iterations 5\n",
      "Optimization terminated successfully.\n",
      "         Current function value: 0.597743\n",
      "         Iterations 5\n",
      "Optimization terminated successfully.\n",
      "         Current function value: 0.635458\n",
      "         Iterations 5\n",
      "Optimization terminated successfully.\n",
      "         Current function value: 0.609529\n",
      "         Iterations 5\n",
      "Optimization terminated successfully.\n",
      "         Current function value: 0.530571\n",
      "         Iterations 7\n",
      "Optimization terminated successfully.\n",
      "         Current function value: 0.432082\n",
      "         Iterations 7\n",
      "Optimization terminated successfully.\n",
      "         Current function value: 0.426556\n",
      "         Iterations 7\n"
     ]
    }
   ],
   "source": [
    "ols_body_clot_burden_results = run_regression_group(df, indVarGroups=bodyIndVarGroups, Y='clot_burden_additive', kind='ols')\n",
    "logit_body_resolution_results = run_regression_group(df, indVarGroups=bodyIndVarGroups, Y='Resolved PE', kind='logit')\n",
    "ols_airway_clot_burden_results = run_regression_group(df, indVarGroups=airwayIndVarGroups, Y='clot_burden_additive', kind='ols')\n",
    "logit_airway_resolution_results = run_regression_group(df, indVarGroups=airwayIndVarGroups, Y='Resolved PE', kind='logit')"
   ]
  },
  {
   "cell_type": "code",
   "execution_count": 234,
   "id": "9f9989db-7ed5-4b87-9263-6c9df5ca19d5",
   "metadata": {},
   "outputs": [],
   "source": [
    "results = pd.concat([\n",
    "    ols_body_clot_burden_results, \n",
    "    logit_body_resolution_results,\n",
    "    ols_airway_clot_burden_results,\n",
    "    logit_airway_resolution_results\n",
    "    ], axis=0) \n",
    "results.to_csv('output/regressions.csv')"
   ]
  },
  {
   "cell_type": "markdown",
   "id": "fc5c4011-a789-4d69-ab8a-8a21e4d49923",
   "metadata": {},
   "source": [
    "## impact of body composition on the PE changes over time"
   ]
  },
  {
   "cell_type": "code",
   "execution_count": null,
   "id": "1c6ef30b-2d85-4cb4-ba31-8a9394b0a2af",
   "metadata": {},
   "outputs": [],
   "source": []
  },
  {
   "cell_type": "markdown",
   "id": "af852685-7483-4954-8057-48e172527625",
   "metadata": {},
   "source": [
    "## association between PE clot volumes and the artery/vein volumes"
   ]
  },
  {
   "cell_type": "code",
   "execution_count": null,
   "id": "c3f1d253-468e-4386-92f9-041933499251",
   "metadata": {},
   "outputs": [],
   "source": []
  },
  {
   "cell_type": "markdown",
   "id": "bd07479d-f437-48ae-af5a-79e836fb7cf6",
   "metadata": {
    "jp-MarkdownHeadingCollapsed": true,
    "tags": []
   },
   "source": [
    "# Old / Scratch"
   ]
  },
  {
   "cell_type": "code",
   "execution_count": null,
   "id": "b75206a2-fbc1-4c9e-9962-4646ff74ec84",
   "metadata": {},
   "outputs": [],
   "source": []
  },
  {
   "cell_type": "code",
   "execution_count": 139,
   "id": "dc93ba2b-e6ab-445c-8613-1c3856e6f4c8",
   "metadata": {},
   "outputs": [],
   "source": [
    "ols_models = []\n",
    "\n",
    "indVars = {\n",
    "    'VFAT': [measure+\"_visceral_fat\" for measure in measures],\n",
    "    'SFAT': [measure+\"_subcutaneous_fat\" for measure in measures],\n",
    "    'IFAT': [measure+\"_intermuscular_fat\" for measure in measures],\n",
    "    'Muscle': [measure+\"_muscle\" for measure in measures],\n",
    "    'Bone': [measure+\"_bone\" for measure in measures],\n",
    "    'Composite 1': ['density_visceral_fat', 'density_subcutaneous_fat', 'density_intermuscular_fat', 'volume_muscle', 'density_muscle', 'mass_muscle', 'density_bone']\n",
    "}\n",
    "\n",
    "model_names = list(indVars.keys())\n",
    "\n",
    "coef_df = pd.DataFrame()\n",
    "\n",
    "for model in model_names:\n",
    "    temp_model = regression_one_model(df=df, \n",
    "                                      Xindvars=indVars[model], \n",
    "                                      Yvar='clot_burden_additive', summary=False)\n",
    "    ols_models.append(temp_model)\n",
    "    results = temp_model.summary2().tables[1]\n",
    "    results['Model'] = model\n",
    "    coef_df = pd.concat([coef_df, results], axis=0)\n",
    "    del temp_model\n",
    "    del results\n",
    "    \n",
    "all_ols_models = Stargazer(ols_models)\n",
    "all_ols_models.custom_columns(model_names, [1]*len(model_names))\n",
    "all_ols_models.covariate_order(body_vars)\n",
    "\n",
    "with open('output/Regs on clot burden.html', 'w') as f:\n",
    "    f.write(all_ols_models.render_html())"
   ]
  },
  {
   "cell_type": "code",
   "execution_count": null,
   "id": "ca6486fa-ceb7-40ca-a401-2b096284ad28",
   "metadata": {},
   "outputs": [],
   "source": []
  },
  {
   "cell_type": "code",
   "execution_count": null,
   "id": "a83b618b-7d8e-4729-98aa-68ecf191e381",
   "metadata": {},
   "outputs": [],
   "source": []
  },
  {
   "cell_type": "code",
   "execution_count": null,
   "id": "113b93fa-72cd-40cf-9536-f25760b5ef89",
   "metadata": {},
   "outputs": [],
   "source": []
  },
  {
   "cell_type": "code",
   "execution_count": null,
   "id": "eef585a6-cdf0-4e2c-8b5f-e45bdb4e43c2",
   "metadata": {},
   "outputs": [],
   "source": []
  },
  {
   "cell_type": "code",
   "execution_count": null,
   "id": "36c3b284-e9dc-4946-868e-8e7025500079",
   "metadata": {},
   "outputs": [],
   "source": []
  },
  {
   "cell_type": "code",
   "execution_count": 25,
   "id": "6cbd3891-fb47-4f4a-b489-b1cb0dfd79f6",
   "metadata": {},
   "outputs": [
    {
     "ename": "IndexError",
     "evalue": "too many indices for array: array is 0-dimensional, but 1 were indexed",
     "output_type": "error",
     "traceback": [
      "\u001b[1;31m---------------------------------------------------------------------------\u001b[0m",
      "\u001b[1;31mIndexError\u001b[0m                                Traceback (most recent call last)",
      "Cell \u001b[1;32mIn[25], line 1\u001b[0m\n\u001b[1;32m----> 1\u001b[0m g \u001b[38;5;241m=\u001b[39m \u001b[43msns\u001b[49m\u001b[38;5;241;43m.\u001b[39;49m\u001b[43mlmplot\u001b[49m\u001b[43m(\u001b[49m\n\u001b[0;32m      2\u001b[0m \u001b[43m    \u001b[49m\u001b[43mdata\u001b[49m\u001b[38;5;241;43m=\u001b[39;49m\u001b[43mdf_sub_long\u001b[49m\u001b[43m,\u001b[49m\n\u001b[0;32m      3\u001b[0m \u001b[43m    \u001b[49m\u001b[43mx\u001b[49m\u001b[38;5;241;43m=\u001b[39;49m\u001b[38;5;124;43m'\u001b[39;49m\u001b[38;5;124;43mclot_burden_additive\u001b[39;49m\u001b[38;5;124;43m'\u001b[39;49m\u001b[43m,\u001b[49m\n\u001b[0;32m      4\u001b[0m \u001b[43m    \u001b[49m\u001b[43my\u001b[49m\u001b[38;5;241;43m=\u001b[39;49m\u001b[38;5;124;43m'\u001b[39;49m\u001b[38;5;124;43mvalue\u001b[39;49m\u001b[38;5;124;43m'\u001b[39;49m\u001b[43m,\u001b[49m\n\u001b[0;32m      5\u001b[0m \u001b[43m    \u001b[49m\u001b[43mhue\u001b[49m\u001b[38;5;241;43m=\u001b[39;49m\u001b[38;5;124;43m'\u001b[39;49m\u001b[38;5;124;43mResolved\u001b[39;49m\u001b[38;5;124;43m'\u001b[39;49m\u001b[43m,\u001b[49m\n\u001b[0;32m      6\u001b[0m \u001b[43m    \u001b[49m\u001b[43mcol\u001b[49m\u001b[38;5;241;43m=\u001b[39;49m\u001b[38;5;124;43m'\u001b[39;49m\u001b[38;5;124;43mvariable\u001b[39;49m\u001b[38;5;124;43m'\u001b[39;49m\u001b[43m,\u001b[49m\n\u001b[0;32m      7\u001b[0m \u001b[43m    \u001b[49m\u001b[43mcol_wrap\u001b[49m\u001b[38;5;241;43m=\u001b[39;49m\u001b[38;5;241;43m3\u001b[39;49m\u001b[43m,\u001b[49m\n\u001b[0;32m      8\u001b[0m \u001b[43m    \u001b[49m\u001b[43mheight\u001b[49m\u001b[38;5;241;43m=\u001b[39;49m\u001b[38;5;241;43m2.5\u001b[39;49m\u001b[43m,\u001b[49m\n\u001b[0;32m      9\u001b[0m \u001b[43m    \u001b[49m\u001b[43maspect\u001b[49m\u001b[38;5;241;43m=\u001b[39;49m\u001b[38;5;241;43m1.5\u001b[39;49m\u001b[43m,\u001b[49m\n\u001b[0;32m     10\u001b[0m \u001b[43m    \u001b[49m\u001b[43mfacet_kws\u001b[49m\u001b[38;5;241;43m=\u001b[39;49m\u001b[43m{\u001b[49m\u001b[38;5;124;43m'\u001b[39;49m\u001b[38;5;124;43msharey\u001b[39;49m\u001b[38;5;124;43m'\u001b[39;49m\u001b[43m:\u001b[49m\u001b[43m \u001b[49m\u001b[38;5;28;43;01mFalse\u001b[39;49;00m\u001b[43m}\u001b[49m\u001b[43m,\u001b[49m\n\u001b[0;32m     11\u001b[0m \u001b[43m)\u001b[49m\n\u001b[0;32m     13\u001b[0m \u001b[38;5;66;03m# plt.savefig('output/plots/lm_clot_burden_v_relationships')\u001b[39;00m\n",
      "File \u001b[1;32m~\\miniconda3\\envs\\stats\\lib\\site-packages\\seaborn\\regression.py:635\u001b[0m, in \u001b[0;36mlmplot\u001b[1;34m(data, x, y, hue, col, row, palette, col_wrap, height, aspect, markers, sharex, sharey, hue_order, col_order, row_order, legend, legend_out, x_estimator, x_bins, x_ci, scatter, fit_reg, ci, n_boot, units, seed, order, logistic, lowess, robust, logx, x_partial, y_partial, truncate, x_jitter, y_jitter, scatter_kws, line_kws, facet_kws)\u001b[0m\n\u001b[0;32m    626\u001b[0m \u001b[38;5;66;03m# Draw the regression plot on each facet\u001b[39;00m\n\u001b[0;32m    627\u001b[0m regplot_kws \u001b[38;5;241m=\u001b[39m \u001b[38;5;28mdict\u001b[39m(\n\u001b[0;32m    628\u001b[0m     x_estimator\u001b[38;5;241m=\u001b[39mx_estimator, x_bins\u001b[38;5;241m=\u001b[39mx_bins, x_ci\u001b[38;5;241m=\u001b[39mx_ci,\n\u001b[0;32m    629\u001b[0m     scatter\u001b[38;5;241m=\u001b[39mscatter, fit_reg\u001b[38;5;241m=\u001b[39mfit_reg, ci\u001b[38;5;241m=\u001b[39mci, n_boot\u001b[38;5;241m=\u001b[39mn_boot, units\u001b[38;5;241m=\u001b[39munits,\n\u001b[1;32m   (...)\u001b[0m\n\u001b[0;32m    633\u001b[0m     scatter_kws\u001b[38;5;241m=\u001b[39mscatter_kws, line_kws\u001b[38;5;241m=\u001b[39mline_kws,\n\u001b[0;32m    634\u001b[0m )\n\u001b[1;32m--> 635\u001b[0m facets\u001b[38;5;241m.\u001b[39mmap_dataframe(regplot, x\u001b[38;5;241m=\u001b[39mx, y\u001b[38;5;241m=\u001b[39my, \u001b[38;5;241m*\u001b[39m\u001b[38;5;241m*\u001b[39mregplot_kws)\n\u001b[0;32m    636\u001b[0m facets\u001b[38;5;241m.\u001b[39mset_axis_labels(x, y)\n\u001b[0;32m    638\u001b[0m \u001b[38;5;66;03m# Add a legend\u001b[39;00m\n",
      "File \u001b[1;32m~\\miniconda3\\envs\\stats\\lib\\site-packages\\seaborn\\axisgrid.py:819\u001b[0m, in \u001b[0;36mFacetGrid.map_dataframe\u001b[1;34m(self, func, *args, **kwargs)\u001b[0m\n\u001b[0;32m    816\u001b[0m     kwargs[\u001b[38;5;124m\"\u001b[39m\u001b[38;5;124mdata\u001b[39m\u001b[38;5;124m\"\u001b[39m] \u001b[38;5;241m=\u001b[39m data_ijk\n\u001b[0;32m    818\u001b[0m     \u001b[38;5;66;03m# Draw the plot\u001b[39;00m\n\u001b[1;32m--> 819\u001b[0m     \u001b[38;5;28;43mself\u001b[39;49m\u001b[38;5;241;43m.\u001b[39;49m\u001b[43m_facet_plot\u001b[49m\u001b[43m(\u001b[49m\u001b[43mfunc\u001b[49m\u001b[43m,\u001b[49m\u001b[43m \u001b[49m\u001b[43max\u001b[49m\u001b[43m,\u001b[49m\u001b[43m \u001b[49m\u001b[43margs\u001b[49m\u001b[43m,\u001b[49m\u001b[43m \u001b[49m\u001b[43mkwargs\u001b[49m\u001b[43m)\u001b[49m\n\u001b[0;32m    821\u001b[0m \u001b[38;5;66;03m# For axis labels, prefer to use positional args for backcompat\u001b[39;00m\n\u001b[0;32m    822\u001b[0m \u001b[38;5;66;03m# but also extract the x/y kwargs and use if no corresponding arg\u001b[39;00m\n\u001b[0;32m    823\u001b[0m axis_labels \u001b[38;5;241m=\u001b[39m [kwargs\u001b[38;5;241m.\u001b[39mget(\u001b[38;5;124m\"\u001b[39m\u001b[38;5;124mx\u001b[39m\u001b[38;5;124m\"\u001b[39m, \u001b[38;5;28;01mNone\u001b[39;00m), kwargs\u001b[38;5;241m.\u001b[39mget(\u001b[38;5;124m\"\u001b[39m\u001b[38;5;124my\u001b[39m\u001b[38;5;124m\"\u001b[39m, \u001b[38;5;28;01mNone\u001b[39;00m)]\n",
      "File \u001b[1;32m~\\miniconda3\\envs\\stats\\lib\\site-packages\\seaborn\\axisgrid.py:848\u001b[0m, in \u001b[0;36mFacetGrid._facet_plot\u001b[1;34m(self, func, ax, plot_args, plot_kwargs)\u001b[0m\n\u001b[0;32m    846\u001b[0m     plot_args \u001b[38;5;241m=\u001b[39m []\n\u001b[0;32m    847\u001b[0m     plot_kwargs[\u001b[38;5;124m\"\u001b[39m\u001b[38;5;124max\u001b[39m\u001b[38;5;124m\"\u001b[39m] \u001b[38;5;241m=\u001b[39m ax\n\u001b[1;32m--> 848\u001b[0m func(\u001b[38;5;241m*\u001b[39mplot_args, \u001b[38;5;241m*\u001b[39m\u001b[38;5;241m*\u001b[39mplot_kwargs)\n\u001b[0;32m    850\u001b[0m \u001b[38;5;66;03m# Sort out the supporting information\u001b[39;00m\n\u001b[0;32m    851\u001b[0m \u001b[38;5;28mself\u001b[39m\u001b[38;5;241m.\u001b[39m_update_legend_data(ax)\n",
      "File \u001b[1;32m~\\miniconda3\\envs\\stats\\lib\\site-packages\\seaborn\\regression.py:759\u001b[0m, in \u001b[0;36mregplot\u001b[1;34m(data, x, y, x_estimator, x_bins, x_ci, scatter, fit_reg, ci, n_boot, units, seed, order, logistic, lowess, robust, logx, x_partial, y_partial, truncate, dropna, x_jitter, y_jitter, label, color, marker, scatter_kws, line_kws, ax)\u001b[0m\n\u001b[0;32m    757\u001b[0m scatter_kws[\u001b[38;5;124m\"\u001b[39m\u001b[38;5;124mmarker\u001b[39m\u001b[38;5;124m\"\u001b[39m] \u001b[38;5;241m=\u001b[39m marker\n\u001b[0;32m    758\u001b[0m line_kws \u001b[38;5;241m=\u001b[39m {} \u001b[38;5;28;01mif\u001b[39;00m line_kws \u001b[38;5;129;01mis\u001b[39;00m \u001b[38;5;28;01mNone\u001b[39;00m \u001b[38;5;28;01melse\u001b[39;00m copy\u001b[38;5;241m.\u001b[39mcopy(line_kws)\n\u001b[1;32m--> 759\u001b[0m \u001b[43mplotter\u001b[49m\u001b[38;5;241;43m.\u001b[39;49m\u001b[43mplot\u001b[49m\u001b[43m(\u001b[49m\u001b[43max\u001b[49m\u001b[43m,\u001b[49m\u001b[43m \u001b[49m\u001b[43mscatter_kws\u001b[49m\u001b[43m,\u001b[49m\u001b[43m \u001b[49m\u001b[43mline_kws\u001b[49m\u001b[43m)\u001b[49m\n\u001b[0;32m    760\u001b[0m \u001b[38;5;28;01mreturn\u001b[39;00m ax\n",
      "File \u001b[1;32m~\\miniconda3\\envs\\stats\\lib\\site-packages\\seaborn\\regression.py:368\u001b[0m, in \u001b[0;36m_RegressionPlotter.plot\u001b[1;34m(self, ax, scatter_kws, line_kws)\u001b[0m\n\u001b[0;32m    365\u001b[0m     \u001b[38;5;28mself\u001b[39m\u001b[38;5;241m.\u001b[39mscatterplot(ax, scatter_kws)\n\u001b[0;32m    367\u001b[0m \u001b[38;5;28;01mif\u001b[39;00m \u001b[38;5;28mself\u001b[39m\u001b[38;5;241m.\u001b[39mfit_reg:\n\u001b[1;32m--> 368\u001b[0m     \u001b[38;5;28;43mself\u001b[39;49m\u001b[38;5;241;43m.\u001b[39;49m\u001b[43mlineplot\u001b[49m\u001b[43m(\u001b[49m\u001b[43max\u001b[49m\u001b[43m,\u001b[49m\u001b[43m \u001b[49m\u001b[43mline_kws\u001b[49m\u001b[43m)\u001b[49m\n\u001b[0;32m    370\u001b[0m \u001b[38;5;66;03m# Label the axes\u001b[39;00m\n\u001b[0;32m    371\u001b[0m \u001b[38;5;28;01mif\u001b[39;00m \u001b[38;5;28mhasattr\u001b[39m(\u001b[38;5;28mself\u001b[39m\u001b[38;5;241m.\u001b[39mx, \u001b[38;5;124m\"\u001b[39m\u001b[38;5;124mname\u001b[39m\u001b[38;5;124m\"\u001b[39m):\n",
      "File \u001b[1;32m~\\miniconda3\\envs\\stats\\lib\\site-packages\\seaborn\\regression.py:426\u001b[0m, in \u001b[0;36m_RegressionPlotter.lineplot\u001b[1;34m(self, ax, kws)\u001b[0m\n\u001b[0;32m    424\u001b[0m     line\u001b[38;5;241m.\u001b[39msticky_edges\u001b[38;5;241m.\u001b[39mx[:] \u001b[38;5;241m=\u001b[39m edges  \u001b[38;5;66;03m# Prevent mpl from adding margin\u001b[39;00m\n\u001b[0;32m    425\u001b[0m \u001b[38;5;28;01mif\u001b[39;00m err_bands \u001b[38;5;129;01mis\u001b[39;00m \u001b[38;5;129;01mnot\u001b[39;00m \u001b[38;5;28;01mNone\u001b[39;00m:\n\u001b[1;32m--> 426\u001b[0m     \u001b[43max\u001b[49m\u001b[38;5;241;43m.\u001b[39;49m\u001b[43mfill_between\u001b[49m\u001b[43m(\u001b[49m\u001b[43mgrid\u001b[49m\u001b[43m,\u001b[49m\u001b[43m \u001b[49m\u001b[38;5;241;43m*\u001b[39;49m\u001b[43merr_bands\u001b[49m\u001b[43m,\u001b[49m\u001b[43m \u001b[49m\u001b[43mfacecolor\u001b[49m\u001b[38;5;241;43m=\u001b[39;49m\u001b[43mfill_color\u001b[49m\u001b[43m,\u001b[49m\u001b[43m \u001b[49m\u001b[43malpha\u001b[49m\u001b[38;5;241;43m=\u001b[39;49m\u001b[38;5;241;43m.15\u001b[39;49m\u001b[43m)\u001b[49m\n",
      "File \u001b[1;32m~\\miniconda3\\envs\\stats\\lib\\site-packages\\matplotlib\\__init__.py:1423\u001b[0m, in \u001b[0;36m_preprocess_data.<locals>.inner\u001b[1;34m(ax, data, *args, **kwargs)\u001b[0m\n\u001b[0;32m   1420\u001b[0m \u001b[38;5;129m@functools\u001b[39m\u001b[38;5;241m.\u001b[39mwraps(func)\n\u001b[0;32m   1421\u001b[0m \u001b[38;5;28;01mdef\u001b[39;00m \u001b[38;5;21minner\u001b[39m(ax, \u001b[38;5;241m*\u001b[39margs, data\u001b[38;5;241m=\u001b[39m\u001b[38;5;28;01mNone\u001b[39;00m, \u001b[38;5;241m*\u001b[39m\u001b[38;5;241m*\u001b[39mkwargs):\n\u001b[0;32m   1422\u001b[0m     \u001b[38;5;28;01mif\u001b[39;00m data \u001b[38;5;129;01mis\u001b[39;00m \u001b[38;5;28;01mNone\u001b[39;00m:\n\u001b[1;32m-> 1423\u001b[0m         \u001b[38;5;28;01mreturn\u001b[39;00m func(ax, \u001b[38;5;241m*\u001b[39m\u001b[38;5;28mmap\u001b[39m(sanitize_sequence, args), \u001b[38;5;241m*\u001b[39m\u001b[38;5;241m*\u001b[39mkwargs)\n\u001b[0;32m   1425\u001b[0m     bound \u001b[38;5;241m=\u001b[39m new_sig\u001b[38;5;241m.\u001b[39mbind(ax, \u001b[38;5;241m*\u001b[39margs, \u001b[38;5;241m*\u001b[39m\u001b[38;5;241m*\u001b[39mkwargs)\n\u001b[0;32m   1426\u001b[0m     auto_label \u001b[38;5;241m=\u001b[39m (bound\u001b[38;5;241m.\u001b[39marguments\u001b[38;5;241m.\u001b[39mget(label_namer)\n\u001b[0;32m   1427\u001b[0m                   \u001b[38;5;129;01mor\u001b[39;00m bound\u001b[38;5;241m.\u001b[39mkwargs\u001b[38;5;241m.\u001b[39mget(label_namer))\n",
      "File \u001b[1;32m~\\miniconda3\\envs\\stats\\lib\\site-packages\\matplotlib\\axes\\_axes.py:5335\u001b[0m, in \u001b[0;36mAxes.fill_between\u001b[1;34m(self, x, y1, y2, where, interpolate, step, **kwargs)\u001b[0m\n\u001b[0;32m   5333\u001b[0m \u001b[38;5;28;01mdef\u001b[39;00m \u001b[38;5;21mfill_between\u001b[39m(\u001b[38;5;28mself\u001b[39m, x, y1, y2\u001b[38;5;241m=\u001b[39m\u001b[38;5;241m0\u001b[39m, where\u001b[38;5;241m=\u001b[39m\u001b[38;5;28;01mNone\u001b[39;00m, interpolate\u001b[38;5;241m=\u001b[39m\u001b[38;5;28;01mFalse\u001b[39;00m,\n\u001b[0;32m   5334\u001b[0m                  step\u001b[38;5;241m=\u001b[39m\u001b[38;5;28;01mNone\u001b[39;00m, \u001b[38;5;241m*\u001b[39m\u001b[38;5;241m*\u001b[39mkwargs):\n\u001b[1;32m-> 5335\u001b[0m     \u001b[38;5;28;01mreturn\u001b[39;00m \u001b[38;5;28mself\u001b[39m\u001b[38;5;241m.\u001b[39m_fill_between_x_or_y(\n\u001b[0;32m   5336\u001b[0m         \u001b[38;5;124m\"\u001b[39m\u001b[38;5;124mx\u001b[39m\u001b[38;5;124m\"\u001b[39m, x, y1, y2,\n\u001b[0;32m   5337\u001b[0m         where\u001b[38;5;241m=\u001b[39mwhere, interpolate\u001b[38;5;241m=\u001b[39minterpolate, step\u001b[38;5;241m=\u001b[39mstep, \u001b[38;5;241m*\u001b[39m\u001b[38;5;241m*\u001b[39mkwargs)\n",
      "File \u001b[1;32m~\\miniconda3\\envs\\stats\\lib\\site-packages\\matplotlib\\axes\\_axes.py:5263\u001b[0m, in \u001b[0;36mAxes._fill_between_x_or_y\u001b[1;34m(self, ind_dir, ind, dep1, dep2, where, interpolate, step, **kwargs)\u001b[0m\n\u001b[0;32m   5259\u001b[0m ind, dep1, dep2 \u001b[38;5;241m=\u001b[39m np\u001b[38;5;241m.\u001b[39mbroadcast_arrays(\n\u001b[0;32m   5260\u001b[0m     np\u001b[38;5;241m.\u001b[39matleast_1d(ind), dep1, dep2, subok\u001b[38;5;241m=\u001b[39m\u001b[38;5;28;01mTrue\u001b[39;00m)\n\u001b[0;32m   5262\u001b[0m polys \u001b[38;5;241m=\u001b[39m []\n\u001b[1;32m-> 5263\u001b[0m \u001b[38;5;28;01mfor\u001b[39;00m idx0, idx1 \u001b[38;5;129;01min\u001b[39;00m \u001b[43mcbook\u001b[49m\u001b[38;5;241;43m.\u001b[39;49m\u001b[43mcontiguous_regions\u001b[49m\u001b[43m(\u001b[49m\u001b[43mwhere\u001b[49m\u001b[43m)\u001b[49m:\n\u001b[0;32m   5264\u001b[0m     indslice \u001b[38;5;241m=\u001b[39m ind[idx0:idx1]\n\u001b[0;32m   5265\u001b[0m     dep1slice \u001b[38;5;241m=\u001b[39m dep1[idx0:idx1]\n",
      "File \u001b[1;32m~\\miniconda3\\envs\\stats\\lib\\site-packages\\matplotlib\\cbook\\__init__.py:1333\u001b[0m, in \u001b[0;36mcontiguous_regions\u001b[1;34m(mask)\u001b[0m\n\u001b[0;32m   1330\u001b[0m     \u001b[38;5;28;01mreturn\u001b[39;00m []\n\u001b[0;32m   1332\u001b[0m \u001b[38;5;66;03m# Find the indices of region changes, and correct offset\u001b[39;00m\n\u001b[1;32m-> 1333\u001b[0m idx, \u001b[38;5;241m=\u001b[39m np\u001b[38;5;241m.\u001b[39mnonzero(\u001b[43mmask\u001b[49m\u001b[43m[\u001b[49m\u001b[43m:\u001b[49m\u001b[38;5;241;43m-\u001b[39;49m\u001b[38;5;241;43m1\u001b[39;49m\u001b[43m]\u001b[49m \u001b[38;5;241m!=\u001b[39m mask[\u001b[38;5;241m1\u001b[39m:])\n\u001b[0;32m   1334\u001b[0m idx \u001b[38;5;241m+\u001b[39m\u001b[38;5;241m=\u001b[39m \u001b[38;5;241m1\u001b[39m\n\u001b[0;32m   1336\u001b[0m \u001b[38;5;66;03m# List operations are faster for moderately sized arrays\u001b[39;00m\n",
      "\u001b[1;31mIndexError\u001b[0m: too many indices for array: array is 0-dimensional, but 1 were indexed"
     ]
    },
    {
     "data": {
      "image/png": "[encoded data removed]",
      "text/plain": [
       "<Figure size 1125x750 with 7 Axes>"
      ]
     },
     "metadata": {},
     "output_type": "display_data"
    }
   ],
   "source": [
    "g = sns.lmplot(\n",
    "    data=df_sub_long,\n",
    "    x='clot_burden_additive',\n",
    "    y='value',\n",
    "    hue='Resolved',\n",
    "    col='variable',\n",
    "    col_wrap=3,\n",
    "    height=2.5,\n",
    "    aspect=1.5,\n",
    "    facet_kws={'sharey': False},\n",
    ")\n",
    "\n",
    "# plt.savefig('output/plots/lm_clot_burden_v_relationships')"
   ]
  }
 ],
 "metadata": {
  "kernelspec": {
   "display_name": "Python [conda env:stats] *",
   "language": "python",
   "name": "conda-env-stats-py"
  },
  "language_info": {
   "codemirror_mode": {
    "name": "ipython",
    "version": 3
   },
   "file_extension": ".py",
   "mimetype": "text/x-python",
   "name": "python",
   "nbconvert_exporter": "python",
   "pygments_lexer": "ipython3",
   "version": "3.10.8"
  }
 },
 "nbformat": 4,
 "nbformat_minor": 5
}
